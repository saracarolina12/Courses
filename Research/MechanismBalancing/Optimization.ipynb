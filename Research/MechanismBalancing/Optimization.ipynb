{
 "cells": [
  {
   "attachments": {},
   "cell_type": "markdown",
   "metadata": {},
   "source": [
    "## Six-bar Mechanism Balancing"
   ]
  },
  {
   "cell_type": "code",
   "execution_count": null,
   "metadata": {},
   "outputs": [],
   "source": [
    "from BetaShF import ShF\n",
    "from BetaShM import ShM \n",
    "import numpy as np \n",
    "from scipy.optimize import differential_evolution\n",
    "import matplotlib.pyplot as plt"
   ]
  },
  {
   "cell_type": "markdown",
   "metadata": {},
   "source": [
    "### Contraints"
   ]
  },
  {
   "attachments": {},
   "cell_type": "markdown",
   "metadata": {},
   "source": [
    "$-0.16m <= x_{cn},y_{cn} <= 0.16m$\n",
    "\n",
    "$0.005m <= t_{cn} <= 0.04m$"
   ]
  },
  {
   "cell_type": "markdown",
   "metadata": {},
   "source": [
    "### Objective Function"
   ]
  },
  {
   "cell_type": "code",
   "execution_count": 2,
   "metadata": {},
   "outputs": [],
   "source": [
    "def objective_function(s, ShF, ShM): #c is a constant that distributes the weight among the functions.\n",
    "    c = 0.5\n",
    "    return c*ShF(s) + c*ShM(s)"
   ]
  },
  {
   "attachments": {},
   "cell_type": "markdown",
   "metadata": {},
   "source": [
    "### Differential Evolution"
   ]
  },
  {
   "cell_type": "code",
   "execution_count": 3,
   "metadata": {},
   "outputs": [],
   "source": [
    "bounds = [ #x,y,t\n",
    "    [-0.16, 0.16], \n",
    "    [-0.16, 0.16], \n",
    "    [0.005, 0.04], \n",
    "\n",
    "    [-0.16, 0.16], \n",
    "    [-0.16, 0.16], \n",
    "    [0.005, 0.04], \n",
    "\n",
    "    [-0.16, 0.16], \n",
    "    [-0.16, 0.16], \n",
    "    [0.005, 0.04], \n",
    "\n",
    "    [-0.16, 0.16], \n",
    "    [-0.16, 0.16], \n",
    "    [0.005, 0.04], \n",
    "\n",
    "    [-0.16, 0.16], \n",
    "    [-0.16, 0.16], \n",
    "    [0.005, 0.04], \n",
    "]"
   ]
  },
  {
   "cell_type": "code",
   "execution_count": null,
   "metadata": {},
   "outputs": [
    {
     "name": "stdout",
     "output_type": "stream",
     "text": [
      "     fun: 0.49442345879538424\n",
      "     jac: array([ 2.23704388e-04,  1.33920652e-04, -5.98519728e-01,  1.24017463e-04,\n",
      "        4.10393941e-05, -8.11184453e-05, -3.82860410e-05,  7.84872167e-05,\n",
      "       -1.66414532e+00, -1.28147493e-04,  4.68680650e-05,  5.55111512e-09,\n",
      "       -1.80072623e-04, -1.62475589e-04,  5.55111512e-08])\n",
      " message: 'Maximum number of iterations has been exceeded.'\n",
      "    nfev: 3307\n",
      "     nit: 10\n",
      " success: False\n",
      "       x: array([-2.53950103e-02, -3.41821763e-02,  4.00000000e-02, -8.01449846e-02,\n",
      "       -8.47782375e-03,  2.94424176e-02, -5.78433341e-02,  6.23323030e-03,\n",
      "        4.00000000e-02, -1.61358898e-06,  5.83989908e-07,  5.00000000e-03,\n",
      "       -1.85443311e-06, -1.67289363e-06,  5.00000000e-03])\n",
      "     fun: 0.4944234584371204\n",
      "     jac: array([ 7.05768777e-05,  5.61439783e-05, -5.98526290e-01, -9.50517443e-05,\n",
      "        2.03781436e-05,  2.22605268e-04,  7.88202836e-05,  1.68398628e-04,\n",
      "       -1.66415268e+00,  2.88269408e-05,  2.96873637e-05,  2.77555756e-08,\n",
      "       -1.03467235e-04,  1.55803148e-04,  1.05471187e-07])\n",
      " message: 'Maximum number of iterations has been exceeded.'\n",
      "    nfev: 3195\n",
      "     nit: 10\n",
      " success: False\n",
      "       x: array([-2.53960939e-02, -3.41818252e-02,  4.00000000e-02, -9.33857347e-02,\n",
      "       -9.87821307e-03,  1.86109501e-02, -5.78431021e-02,  6.23347006e-03,\n",
      "        4.00000000e-02,  3.57049116e-07,  3.67144635e-07,  5.00000000e-03,\n",
      "       -1.06749800e-06,  1.59484990e-06,  5.00000000e-03])\n",
      "     fun: 0.49442347234756656\n",
      "     jac: array([ 5.66724445e-04, -8.27427016e-04, -5.98285477e-01,  5.24102984e-04,\n",
      "        8.49820214e-05, -9.70268310e-04, -3.73423514e-04, -2.20728991e-04,\n",
      "       -1.66428249e+00, -1.75637282e-04, -2.36533015e-04,  1.11022302e-07,\n",
      "        9.32953714e-04, -9.34508027e-04,  1.06026299e-06])\n",
      " message: 'Maximum number of iterations has been exceeded.'\n",
      "    nfev: 3403\n",
      "     nit: 10\n",
      " success: False\n",
      "       x: array([-2.53862799e-02, -3.41899551e-02,  4.00000000e-02, -9.73166019e-02,\n",
      "       -1.02971257e-02,  1.64452577e-02, -5.78455572e-02,  6.23181686e-03,\n",
      "        4.00000000e-02, -2.21234610e-06, -2.97631243e-06,  5.00000000e-03,\n",
      "        7.34957574e-06, -7.37091781e-06,  6.51236608e-03])\n",
      "     fun: 0.4944234664547465\n",
      "     jac: array([-9.58788604e-04, -6.10900219e-05, -5.98186561e-01,  4.50411930e-04,\n",
      "        1.08141274e-04, -6.16778850e-04, -2.22710739e-05, -3.21098703e-04,\n",
      "       -1.66394048e+00, -6.57679466e-04,  3.99846822e-04,  7.82707232e-07,\n",
      "        2.73242540e-04, -3.95233846e-04,  2.33146835e-07])\n",
      " message: 'Maximum number of iterations has been exceeded.'\n",
      "    nfev: 3051\n",
      "     nit: 10\n",
      " success: False\n",
      "       x: array([-2.54028638e-02, -3.41765553e-02,  4.00000000e-02, -9.02789008e-02,\n",
      "       -9.54717186e-03,  2.05993556e-02, -5.78413109e-02,  6.23153853e-03,\n",
      "        4.00000000e-02, -8.26427147e-06,  5.01476149e-06,  5.00000000e-03,\n",
      "        2.80140650e-06, -4.06400760e-06,  5.00000000e-03])\n"
     ]
    },
    {
     "ename": "",
     "evalue": "",
     "output_type": "error",
     "traceback": [
      "\u001b[1;31mCanceled future for execute_request message before replies were done"
     ]
    },
    {
     "ename": "",
     "evalue": "",
     "output_type": "error",
     "traceback": [
      "\u001b[1;31mThe Kernel crashed while executing code in the the current cell or a previous cell. Please review the code in the cell(s) to identify a possible cause of the failure. Click <a href='https://aka.ms/vscodeJupyterKernelCrash'>here</a> for more info. View Jupyter <a href='command:jupyter.viewOutput'>log</a> for further details."
     ]
    }
   ],
   "source": [
    "it = 10\n",
    "sols = np.zeros((it,2))\n",
    "best, bestSol = 10, None\n",
    "for i in range(it):\n",
    "    r = differential_evolution(objective_function, bounds, args=(ShF, ShM), maxiter=it)\n",
    "    print(r)\n",
    "    #sols[i][0], sols[i][1] = ShF(*r['P']), ShM(*r['P'])\n",
    "    if r['fun'] < best:\n",
    "        best = r['fun']\n",
    "        bestSol = r"
   ]
  },
  {
   "cell_type": "code",
   "execution_count": null,
   "metadata": {},
   "outputs": [],
   "source": [
    "plt.plot(sols[:, 0], sols[:, 1], 'o')\n",
    "plt.plot(ShF(*bestSol['P']), ShM(*bestSol['P']), '^')"
   ]
  },
  {
   "cell_type": "code",
   "execution_count": null,
   "metadata": {},
   "outputs": [],
   "source": [
    "np.sqrt(best)"
   ]
  },
  {
   "cell_type": "code",
   "execution_count": null,
   "metadata": {},
   "outputs": [],
   "source": [
    "bestSol"
   ]
  },
  {
   "cell_type": "markdown",
   "metadata": {},
   "source": [
    "### Gradient Descent"
   ]
  },
  {
   "cell_type": "code",
   "execution_count": null,
   "metadata": {},
   "outputs": [],
   "source": [
    "def gradient_descent(max_iter):\n",
    "    pass\n"
   ]
  }
 ],
 "metadata": {
  "kernelspec": {
   "display_name": "Python 3",
   "language": "python",
   "name": "python3"
  },
  "language_info": {
   "codemirror_mode": {
    "name": "ipython",
    "version": 3
   },
   "file_extension": ".py",
   "mimetype": "text/x-python",
   "name": "python",
   "nbconvert_exporter": "python",
   "pygments_lexer": "ipython3",
   "version": "3.8.10"
  },
  "orig_nbformat": 4,
  "vscode": {
   "interpreter": {
    "hash": "9657f75d11a0452fcf806b36894402ef0911af5c6693254468235952415550fc"
   }
  }
 },
 "nbformat": 4,
 "nbformat_minor": 2
}
