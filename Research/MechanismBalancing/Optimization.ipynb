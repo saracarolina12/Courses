{
 "cells": [
  {
   "attachments": {},
   "cell_type": "markdown",
   "metadata": {},
   "source": [
    "## Six-bar Mechanism Balancing"
   ]
  },
  {
   "cell_type": "code",
   "execution_count": 1,
   "metadata": {},
   "outputs": [],
   "source": [
    "from BetaShF import ShF\n",
    "from BetaShM import ShM \n",
    "import numpy as np \n",
    "from scipy.optimize import differential_evolution\n",
    "import matplotlib.pyplot as plt\n",
    "from cnsg_differential_evolution import cnsg_differential_evolution"
   ]
  },
  {
   "cell_type": "markdown",
   "metadata": {},
   "source": [
    "### Contraints"
   ]
  },
  {
   "attachments": {},
   "cell_type": "markdown",
   "metadata": {},
   "source": [
    "$-0.16m <= x_{cn},y_{cn} <= 0.16m$\n",
    "\n",
    "$0.005m <= t_{cn} <= 0.04m$"
   ]
  },
  {
   "cell_type": "markdown",
   "metadata": {},
   "source": [
    "### Objective Function"
   ]
  },
  {
   "cell_type": "code",
   "execution_count": 2,
   "metadata": {},
   "outputs": [],
   "source": [
    "def objective_function(s, ShF, ShM): #c is a constant that distributes the weight among the functions.\n",
    "    c = 0.5\n",
    "    return c*ShF(s) + c*ShM(s)"
   ]
  },
  {
   "cell_type": "markdown",
   "metadata": {},
   "source": [
    "### Gradient Descent"
   ]
  },
  {
   "cell_type": "code",
   "execution_count": 3,
   "metadata": {},
   "outputs": [],
   "source": [
    "\n",
    "eps = 1e-5\n",
    "def Vf(X,ShF,ShM,f):\n",
    "    n = len(X)\n",
    "    G = np.zeros((n),float)\n",
    "    incX = np.zeros((n),float)\n",
    "    for i in range(n):\n",
    "        incX[i] = eps\n",
    "        G[i] = (f(X+incX,ShF, ShM)-f(X,ShF, ShM))/eps\n",
    "        incX[i] = 0\n",
    "    return G\n",
    "\n",
    "def VfTd(X,ShF, ShM,d,f):\n",
    "    return (f(X+eps*d,ShF, ShM,)-f(X,ShF, ShM,))/eps\n",
    "\n",
    "def V2f(X,ShF,ShM,f):\n",
    "    n = len(X)\n",
    "    H = np.zeros((n,n),float)\n",
    "    incX = np.zeros((n),float)\n",
    "    for i in range(n):\n",
    "        incX[i] = eps\n",
    "        H[:,i] = (Vf(X+incX,ShF,ShM,f)-Vf(X,ShF,ShM,f))/eps\n",
    "        incX[i] = 0\n",
    "    return H\n",
    "\n",
    "def V2fTd(X,ShF, ShM,d,f):\n",
    "    return (Vf(X+eps*d,ShF, ShM,f)-Vf(X,ShF, ShM,f))/eps\n",
    "    \n",
    "# X = np.array([2,3])\n",
    "# d = np.array([5,1])\n",
    "\n",
    "\n",
    "# print(\"P_k: \", d)\n",
    "\n",
    "# print('f:',objective_function(bestSol.x,ShF, ShM))\n",
    "# print('Vf:',Vf(bestSol.x, ShF, ShM,objective_function))\n",
    "# print('V2f:',V2f(bestSol.x, ShF, ShM,objective_function))\n",
    "# print('VfTd:',VfTd(bestSol.x, ShF, ShM,d,objective_function))\n",
    "# print('V2fTd:',V2fTd(bestSol.x, ShF, ShM,d,objective_function))"
   ]
  },
  {
   "cell_type": "code",
   "execution_count": 4,
   "metadata": {},
   "outputs": [],
   "source": [
    "def calculate_d(X):\n",
    "    return -Vf(X,ShF,ShM,objective_function)/np.linalg.norm(Vf(X, ShF, ShM, objective_function))"
   ]
  },
  {
   "cell_type": "code",
   "execution_count": 20,
   "metadata": {},
   "outputs": [],
   "source": [
    "def gradient_descent(x0, f, max_iter = 4, eps = 1e-5):\n",
    "    k=0\n",
    "    x = x0\n",
    "    G = Vf(x,ShF, ShM, f)\n",
    "    normG = np.linalg.norm(G)\n",
    "    P = -G\n",
    "    fit = f(x, ShF, ShM)\n",
    "    while(k <= max_iter and np.linalg.norm(Vf(x, ShF, ShM,f)) >= eps ):\n",
    "        print(\"#---->\",k)\n",
    "        # Calculate step size a_k\n",
    "        a = np.dot(-P, G)/np.dot(P,V2fTd(x,ShF, ShM,P,f))\n",
    "        x = x + a*P\n",
    "        # Calculate the direction P_k\n",
    "        P = -Vf(x,ShF,ShM,f)/np.linalg.norm(Vf(x, ShF, ShM, f))\n",
    "\n",
    "        G_ = np.copy(G)\n",
    "        G = G + a*V2fTd(x,ShF, ShM,P,f)\n",
    "        normG = np.linalg.norm(G)\n",
    "        B = -np.dot(G,G)/np.dot(G_,G_)\n",
    "        P = -G + B*P\n",
    "        k = k+1\n",
    "\n",
    "        print(\"**: \",x,\" - \",f(x,ShF,ShM))\n",
    "        if f(x,ShF,ShM) >= fit:\n",
    "            break\n",
    "        #fit = min(f(x,ShF,ShM), fit)\n",
    "        fit = f(x,ShF,ShM)\n",
    "    return x"
   ]
  },
  {
   "attachments": {},
   "cell_type": "markdown",
   "metadata": {},
   "source": [
    "### Differential Evolution"
   ]
  },
  {
   "cell_type": "code",
   "execution_count": 6,
   "metadata": {},
   "outputs": [
    {
     "name": "stdout",
     "output_type": "stream",
     "text": [
      "bounds [[-0.16   0.16 ]\n",
      " [-0.16   0.16 ]\n",
      " [ 0.005  0.04 ]\n",
      " [-0.16   0.16 ]\n",
      " [-0.16   0.16 ]\n",
      " [ 0.005  0.04 ]\n",
      " [-0.16   0.16 ]\n",
      " [-0.16   0.16 ]\n",
      " [ 0.005  0.04 ]\n",
      " [-0.16   0.16 ]\n",
      " [-0.16   0.16 ]\n",
      " [ 0.005  0.04 ]\n",
      " [-0.16   0.16 ]\n",
      " [-0.16   0.16 ]\n",
      " [ 0.005  0.04 ]]\n"
     ]
    }
   ],
   "source": [
    "# Bounds for each variable\n",
    "nVar = 5\n",
    "bounds = []\n",
    "for i in range(1,nVar*3+1):\n",
    "    if(i%3==0): bounds.append([0.005,0.04])\n",
    "    else: bounds.append([-0.16, 0.16])\n",
    "bounds = np.array(bounds)\n",
    "print('bounds',bounds)\n"
   ]
  },
  {
   "cell_type": "code",
   "execution_count": 7,
   "metadata": {},
   "outputs": [
    {
     "name": "stdout",
     "output_type": "stream",
     "text": [
      "OF: 46.604883632565645\n"
     ]
    }
   ],
   "source": [
    "s=bounds[:,0]\n",
    "r = objective_function(s, ShF, ShM)\n",
    "print('OF:',r)"
   ]
  },
  {
   "cell_type": "code",
   "execution_count": 8,
   "metadata": {},
   "outputs": [],
   "source": [
    "def callback(s,convergence=2):\n",
    "    print('callback',s)"
   ]
  },
  {
   "cell_type": "code",
   "execution_count": 21,
   "metadata": {},
   "outputs": [
    {
     "name": "stdout",
     "output_type": "stream",
     "text": [
      "r [-0.04507875 -0.01666331  0.02396269 -0.08581049  0.01147232  0.01981688\n",
      " -0.05236916  0.00465119  0.04       -0.00775014  0.00727128  0.00573405\n",
      "  0.00593693 -0.00223985  0.00532005]\n",
      "OF:  0.5655316142243235\n",
      "#----> 0\n",
      "**:  [-0.04432088 -0.01647868  0.02346075 -0.0861854   0.01097543  0.02025638\n",
      " -0.05243995  0.00467827  0.04020001 -0.00763178  0.00714985  0.00558514\n",
      "  0.00584203 -0.00220057  0.00525994]  -  0.560178232093879\n",
      "#----> 1\n",
      "**:  [-0.04365805 -0.01630433  0.02297831 -0.08660633  0.01065672  0.02079378\n",
      " -0.05248821  0.00468574  0.04033552 -0.00754694  0.0070632   0.0054785\n",
      "  0.0057774  -0.00217383  0.005219  ]  -  0.5660957822907502\n",
      "after GD ->  [-0.04365805 -0.01630433  0.02297831 -0.08660633  0.01065672  0.02079378\n",
      " -0.05248821  0.00468574  0.04033552 -0.00754694  0.0070632   0.0054785\n",
      "  0.0057774  -0.00217383  0.005219  ]\n"
     ]
    }
   ],
   "source": [
    "it = 100\n",
    "n = 1\n",
    "sols = np.zeros((n, 2))\n",
    "best, bestSol = 10, None\n",
    "for i in range(n):\n",
    "    #r = differential_evolution(objective_function, bounds,popsize=100, args=(ShF, ShM), maxiter=it,callback=callback, polish = False)\n",
    "    r = cnsg_differential_evolution(objective_function,bounds,args=(ShF, ShM),popsize=15,MaxGenerations=it)\n",
    "    print('r',r)\n",
    "    sols[i][0], sols[i][1] = ShF(r), ShM(r)\n",
    "    fitness = objective_function(r,ShF,ShM)\n",
    "    print(\"OF: \", fitness)\n",
    "    if fitness < 1:\n",
    "        #r = gradient_descent(r,calculate_d(r), Vf, VfTd, V2f, V2fTd)\n",
    "        r = gradient_descent(r,objective_function)\n",
    "        print(\"after GD -> \", r)\n",
    "    if fitness < best:\n",
    "        best = fitness\n",
    "        bestSol = r"
   ]
  },
  {
   "cell_type": "code",
   "execution_count": 22,
   "metadata": {},
   "outputs": [
    {
     "data": {
      "text/plain": [
       "[<matplotlib.lines.Line2D at 0x1f8866f4040>]"
      ]
     },
     "execution_count": 22,
     "metadata": {},
     "output_type": "execute_result"
    },
    {
     "data": {
      "image/png": "[encoded data removed]",
      "text/plain": [
       "<Figure size 640x480 with 1 Axes>"
      ]
     },
     "metadata": {},
     "output_type": "display_data"
    }
   ],
   "source": [
    "np.savetxt('Solutions.txt', sols, delimiter=', ')   # X is an array\n",
    "\n",
    "plt.plot(sols[:, 0], sols[:, 1], 'o')\n",
    "plt.plot(ShF(bestSol), ShM(bestSol), '^')"
   ]
  }
 ],
 "metadata": {
  "kernelspec": {
   "display_name": "Python 3",
   "language": "python",
   "name": "python3"
  },
  "language_info": {
   "codemirror_mode": {
    "name": "ipython",
    "version": 3
   },
   "file_extension": ".py",
   "mimetype": "text/x-python",
   "name": "python",
   "nbconvert_exporter": "python",
   "pygments_lexer": "ipython3",
   "version": "3.8.10"
  },
  "orig_nbformat": 4,
  "vscode": {
   "interpreter": {
    "hash": "9657f75d11a0452fcf806b36894402ef0911af5c6693254468235952415550fc"
   }
  }
 },
 "nbformat": 4,
 "nbformat_minor": 2
}
