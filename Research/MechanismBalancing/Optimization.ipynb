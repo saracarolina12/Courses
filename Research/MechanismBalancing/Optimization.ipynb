{
 "cells": [
  {
   "attachments": {},
   "cell_type": "markdown",
   "metadata": {},
   "source": [
    "## Six-bar Mechanism Balancing"
   ]
  },
  {
   "cell_type": "code",
   "execution_count": 1,
   "metadata": {},
   "outputs": [],
   "source": [
    "from BetaShF import ShF\n",
    "from BetaShM import ShM \n",
    "import numpy as np \n",
    "from scipy.optimize import differential_evolution\n",
    "import matplotlib.pyplot as plt"
   ]
  },
  {
   "cell_type": "markdown",
   "metadata": {},
   "source": [
    "### Contraints"
   ]
  },
  {
   "attachments": {},
   "cell_type": "markdown",
   "metadata": {},
   "source": [
    "$-0.16m <= x_{cn},y_{cn} <= 0.16m$\n",
    "\n",
    "$0.005m <= t_{cn} <= 0.04m$"
   ]
  },
  {
   "cell_type": "markdown",
   "metadata": {},
   "source": [
    "### Objective Function"
   ]
  },
  {
   "cell_type": "code",
   "execution_count": 2,
   "metadata": {},
   "outputs": [],
   "source": [
    "def objective_function(s, ShF, ShM): #c is a constant that distributes the weight among the functions.\n",
    "    c = 0.5\n",
    "    return c*ShF(s) + c*ShM(s)"
   ]
  },
  {
   "attachments": {},
   "cell_type": "markdown",
   "metadata": {},
   "source": [
    "### Differential Evolution"
   ]
  },
  {
   "cell_type": "code",
   "execution_count": 3,
   "metadata": {},
   "outputs": [],
   "source": [
    "# Bounds for each variable\n",
    "nVar = 5\n",
    "bounds = []\n",
    "for i in range(1,nVar*3+1):\n",
    "    if(i%3==0): bounds.append([0.005,0.04])\n",
    "    else: bounds.append([-0.16, 0.16])\n",
    "#print(bounds)\n"
   ]
  },
  {
   "cell_type": "code",
   "execution_count": 4,
   "metadata": {},
   "outputs": [],
   "source": [
    "it = 5\n",
    "n = 100\n",
    "sols = np.zeros((n, 2))\n",
    "best, bestSol = 10, None\n",
    "for i in range(n):\n",
    "    r = differential_evolution(objective_function, bounds, args=(ShF, ShM), maxiter=it)\n",
    "    sols[i][0], sols[i][1] = ShF([*r['x']]), ShM([*r['x']])\n",
    "    if r['fun'] < best:\n",
    "        best = r['fun']\n",
    "        bestSol = r"
   ]
  },
  {
   "cell_type": "code",
   "execution_count": 5,
   "metadata": {},
   "outputs": [
    {
     "data": {
      "text/plain": [
       "[<matplotlib.lines.Line2D at 0x23eb1cde3d0>]"
      ]
     },
     "execution_count": 5,
     "metadata": {},
     "output_type": "execute_result"
    },
    {
     "data": {
      "image/png": "[encoded data removed]",
      "text/plain": [
       "<Figure size 640x480 with 1 Axes>"
      ]
     },
     "metadata": {},
     "output_type": "display_data"
    }
   ],
   "source": [
    "np.savetxt('Solutions.txt', sols, delimiter=', ')   # X is an array\n",
    "\n",
    "plt.plot(sols[:, 0], sols[:, 1], 'o')\n",
    "plt.plot(ShF([*bestSol['x']]), ShM([*bestSol['x']]), '^')"
   ]
  },
  {
   "cell_type": "code",
   "execution_count": 6,
   "metadata": {},
   "outputs": [
    {
     "data": {
      "text/plain": [
       "0.7031525141753838"
      ]
     },
     "execution_count": 6,
     "metadata": {},
     "output_type": "execute_result"
    }
   ],
   "source": [
    "np.sqrt(best)"
   ]
  },
  {
   "cell_type": "code",
   "execution_count": 7,
   "metadata": {},
   "outputs": [
    {
     "name": "stdout",
     "output_type": "stream",
     "text": [
      "[-2.53962300e-02 -3.41819308e-02  4.00000000e-02 -9.89196038e-02\n",
      " -1.04637165e-02  1.56590137e-02 -5.78430640e-02  6.23287198e-03\n",
      "  4.00000000e-02 -1.00708784e-07  8.88929550e-08  2.79414879e-02\n",
      "  6.39106606e-08 -7.25380447e-08  2.00773039e-02]\n"
     ]
    }
   ],
   "source": [
    "# bestSol\n",
    "print(bestSol.x)"
   ]
  },
  {
   "cell_type": "markdown",
   "metadata": {},
   "source": [
    "### Gradient Descent"
   ]
  },
  {
   "cell_type": "code",
   "execution_count": 8,
   "metadata": {},
   "outputs": [
    {
     "ename": "",
     "evalue": "",
     "output_type": "error",
     "traceback": [
      "\u001b[1;31mCanceled future for execute_request message before replies were done"
     ]
    },
    {
     "ename": "",
     "evalue": "",
     "output_type": "error",
     "traceback": [
      "\u001b[1;31mThe Kernel crashed while executing code in the the current cell or a previous cell. Please review the code in the cell(s) to identify a possible cause of the failure. Click <a href='https://aka.ms/vscodeJupyterKernelCrash'>here</a> for more info. View Jupyter <a href='command:jupyter.viewOutput'>log</a> for further details."
     ]
    }
   ],
   "source": [
    "eps = 1e-5\n",
    "def Vf(X,f): # Gradient Vector using finite difference\n",
    "    n = len(X)\n",
    "    G = np.zeros((n),float)\n",
    "    incX = np.zeros((n),float)\n",
    "    for i in range(n):\n",
    "        incX[i] = eps\n",
    "        G[i] = (f(X+incX, ShF, ShM)-f(X, ShF, ShM))/eps\n",
    "        incX[i] = 0\n",
    "    return G\n",
    "\n",
    "def VfTd(X,d,f): # Gradient multiplied by a vector\n",
    "    return (f(X+eps*d, ShF, ShM)-f(X, ShF, ShM))/eps\n",
    "\n",
    "def V2f(X,f): # Hessian with finite difference\n",
    "    n = len(X)\n",
    "    H = np.zeros((n,n),float)\n",
    "    incX = np.zeros((n),float)\n",
    "    for i in range(n):\n",
    "        incX[i] = eps\n",
    "        H[:,i] = (Vf(X+incX,f)-Vf(X,f))/eps\n",
    "        incX[i] = 0\n",
    "    return H\n",
    "\n",
    "def V2fTd(X,d,f): # Hessian multiplied by a vector\n",
    "    return (Vf(X+eps*d,f)-Vf(X,f))/eps\n",
    "    \n",
    "X = np.array([2,3])\n",
    "d = np.array([5,1])\n",
    "print('f:',objective_function(X, ShF, ShM))\n",
    "print('Vf:',Vf(X,objective_function))\n",
    "print('V2f:',V2f(X,objective_function))\n",
    "print('VfTd:',VfTd(X,d,objective_function))\n",
    "print('V2fTd:',V2fTd(X,d,objective_function))"
   ]
  },
  {
   "cell_type": "code",
   "execution_count": null,
   "metadata": {},
   "outputs": [],
   "source": [
    "def gradient_descent(x):\n",
    "    max_iter = 3\n",
    "    k=0\n",
    "    while(k < max_iter and np.linalg.norm(Vf(x)) < eps ):\n",
    "        # Calculate step size a_k\n",
    "        a_k = (-VfTd(x,d,objective_function) * d ) / V2f(x) * d # P = d\n",
    "        # Calculate the direction P_k\n",
    "        d = (-Vf(x, objective_function))/np.linalg.norm(Vf(x, objective_function))\n",
    "        x = x + a_k*d\n",
    "        k+=1\n",
    "    return x"
   ]
  },
  {
   "cell_type": "code",
   "execution_count": null,
   "metadata": {},
   "outputs": [],
   "source": [
    "max_iter = 10\n",
    "alpha = 0.1\n",
    "\n",
    "gradient_descent(bestSol.x)"
   ]
  }
 ],
 "metadata": {
  "kernelspec": {
   "display_name": "Python 3",
   "language": "python",
   "name": "python3"
  },
  "language_info": {
   "codemirror_mode": {
    "name": "ipython",
    "version": 3
   },
   "file_extension": ".py",
   "mimetype": "text/x-python",
   "name": "python",
   "nbconvert_exporter": "python",
   "pygments_lexer": "ipython3",
   "version": "3.8.10"
  },
  "orig_nbformat": 4,
  "vscode": {
   "interpreter": {
    "hash": "9657f75d11a0452fcf806b36894402ef0911af5c6693254468235952415550fc"
   }
  }
 },
 "nbformat": 4,
 "nbformat_minor": 2
}
