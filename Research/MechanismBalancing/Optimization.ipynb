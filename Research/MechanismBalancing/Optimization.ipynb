{
 "cells": [
  {
   "attachments": {},
   "cell_type": "markdown",
   "metadata": {},
   "source": [
    "## Six-bar Mechanism Balancing"
   ]
  },
  {
   "cell_type": "code",
   "execution_count": 3,
   "metadata": {},
   "outputs": [],
   "source": [
    "from BetaShF import ShF\n",
    "from BetaShM import ShM \n",
    "import numpy as np \n",
    "from scipy.optimize import differential_evolution\n",
    "import matplotlib.pyplot as plt\n",
    "from cnsg_differential_evolution import cnsg_differential_evolution"
   ]
  },
  {
   "cell_type": "markdown",
   "metadata": {},
   "source": [
    "### Contraints"
   ]
  },
  {
   "attachments": {},
   "cell_type": "markdown",
   "metadata": {},
   "source": [
    "$-0.16m <= x_{cn},y_{cn} <= 0.16m$\n",
    "\n",
    "$0.005m <= t_{cn} <= 0.04m$"
   ]
  },
  {
   "cell_type": "markdown",
   "metadata": {},
   "source": [
    "### Objective Function"
   ]
  },
  {
   "cell_type": "code",
   "execution_count": 4,
   "metadata": {},
   "outputs": [],
   "source": [
    "def objective_function(s, ShF, ShM): #c is a constant that distributes the weight among the functions.\n",
    "    c = 0.5\n",
    "    return c*ShF(s) + c*ShM(s)"
   ]
  },
  {
   "cell_type": "markdown",
   "metadata": {},
   "source": [
    "### Gradient Descent"
   ]
  },
  {
   "cell_type": "code",
   "execution_count": 5,
   "metadata": {},
   "outputs": [],
   "source": [
    "\n",
    "eps = 1e-5\n",
    "def Vf(X,ShF,ShM,f):\n",
    "    n = len(X)\n",
    "    G = np.zeros((n),float)\n",
    "    incX = np.zeros((n),float)\n",
    "    for i in range(n):\n",
    "        incX[i] = eps\n",
    "        G[i] = (f(X+incX,ShF, ShM)-f(X,ShF, ShM))/eps\n",
    "        incX[i] = 0\n",
    "    return G\n",
    "\n",
    "def VfTd(X,ShF, ShM,d,f):\n",
    "    return (f(X+eps*d,ShF, ShM,)-f(X,ShF, ShM,))/eps\n",
    "\n",
    "def V2f(X,ShF,ShM,f):\n",
    "    n = len(X)\n",
    "    H = np.zeros((n,n),float)\n",
    "    incX = np.zeros((n),float)\n",
    "    for i in range(n):\n",
    "        incX[i] = eps\n",
    "        H[:,i] = (Vf(X+incX,ShF,ShM,f)-Vf(X,ShF,ShM,f))/eps\n",
    "        incX[i] = 0\n",
    "    return H\n",
    "\n",
    "def V2fTd(X,ShF, ShM,d,f):\n",
    "    return (Vf(X+eps*d,ShF, ShM,f)-Vf(X,ShF, ShM,f))/eps\n",
    "    \n",
    "# X = np.array([2,3])\n",
    "# d = np.array([5,1])\n",
    "\n",
    "\n",
    "# print(\"P_k: \", d)\n",
    "\n",
    "# print('f:',objective_function(bestSol.x,ShF, ShM))\n",
    "# print('Vf:',Vf(bestSol.x, ShF, ShM,objective_function))\n",
    "# print('V2f:',V2f(bestSol.x, ShF, ShM,objective_function))\n",
    "# print('VfTd:',VfTd(bestSol.x, ShF, ShM,d,objective_function))\n",
    "# print('V2fTd:',V2fTd(bestSol.x, ShF, ShM,d,objective_function))"
   ]
  },
  {
   "cell_type": "code",
   "execution_count": 6,
   "metadata": {},
   "outputs": [],
   "source": [
    "def calculate_d(X):\n",
    "    return -Vf(X,ShF,ShM,objective_function)/np.linalg.norm(Vf(X, ShF, ShM, objective_function))"
   ]
  },
  {
   "cell_type": "code",
   "execution_count": 14,
   "metadata": {},
   "outputs": [],
   "source": [
    "def gradiente_conjugado(X0,ShF,ShM,f,MaxIter=1000,eps=1e-5):\n",
    "    k=0\n",
    "    X = X0\n",
    "    G = Vf(X,ShF, ShM,f)\n",
    "    normaGradiente = np.linalg.norm(G)\n",
    "    P = -G\n",
    "    fit = f(X, ShF, ShM)\n",
    "    print(\"initial F: \", fit)\n",
    "    while(k<=MaxIter and normaGradiente>=eps):\n",
    "        Ap = V2fTd(X,ShF, ShM,P,f)\n",
    "        alpha = np.dot(-P,G) / np.dot(P,Ap)\n",
    "        X = X + alpha*P\n",
    "        G_ = np.copy(G)\n",
    "        G = G + alpha*Ap\n",
    "        normaGradiente = np.linalg.norm(G)\n",
    "        B = -np.dot(G,G)/np.dot(G_,G_)\n",
    "        P = -G + B*P\n",
    "        k = k+1\n",
    "        print(\"**: \",k,f(X,ShF,ShM))\n",
    "        if f(X,ShF,ShM) >= fit:\n",
    "            break\n",
    "    return X"
   ]
  },
  {
   "cell_type": "code",
   "execution_count": 8,
   "metadata": {},
   "outputs": [],
   "source": [
    "def gradient_descent(x,d, Vf, VfTd, V2f, V2fTd):\n",
    "    a_k = 0.01\n",
    "    max_iter = 3\n",
    "    k=0\n",
    "    while(k < max_iter and np.linalg.norm(Vf(x, ShF, ShM,objective_function)) > eps ):\n",
    "        print(\"#---->\",k)\n",
    "        # Calculate step size a_k\n",
    "        \n",
    "        d = -Vf(x,ShF,ShM,objective_function)/np.linalg.norm(Vf(x, ShF, ShM, objective_function))\n",
    "        a_k = (-VfTd(x,ShF, ShM,d,objective_function) * d ) / V2f(x,ShF, ShM,objective_function) * d # P = d\n",
    "       \n",
    "        # Calculate the direction P_k\n",
    "        x = x + a_k*d\n",
    "        k+=1\n",
    "        # print(\"a_k: \",a_k)\n",
    "        # break\n",
    "    return x"
   ]
  },
  {
   "attachments": {},
   "cell_type": "markdown",
   "metadata": {},
   "source": [
    "### Differential Evolution"
   ]
  },
  {
   "cell_type": "code",
   "execution_count": 9,
   "metadata": {},
   "outputs": [
    {
     "name": "stdout",
     "output_type": "stream",
     "text": [
      "bounds [[-0.16   0.16 ]\n",
      " [-0.16   0.16 ]\n",
      " [ 0.005  0.04 ]\n",
      " [-0.16   0.16 ]\n",
      " [-0.16   0.16 ]\n",
      " [ 0.005  0.04 ]\n",
      " [-0.16   0.16 ]\n",
      " [-0.16   0.16 ]\n",
      " [ 0.005  0.04 ]\n",
      " [-0.16   0.16 ]\n",
      " [-0.16   0.16 ]\n",
      " [ 0.005  0.04 ]\n",
      " [-0.16   0.16 ]\n",
      " [-0.16   0.16 ]\n",
      " [ 0.005  0.04 ]]\n"
     ]
    }
   ],
   "source": [
    "# Bounds for each variable\n",
    "nVar = 5\n",
    "bounds = []\n",
    "for i in range(1,nVar*3+1):\n",
    "    if(i%3==0): bounds.append([0.005,0.04])\n",
    "    else: bounds.append([-0.16, 0.16])\n",
    "bounds = np.array(bounds)\n",
    "print('bounds',bounds)\n"
   ]
  },
  {
   "cell_type": "code",
   "execution_count": 10,
   "metadata": {},
   "outputs": [
    {
     "name": "stdout",
     "output_type": "stream",
     "text": [
      "OF: 46.604883632565645\n"
     ]
    }
   ],
   "source": [
    "s=bounds[:,0]\n",
    "r = objective_function(s, ShF, ShM)\n",
    "print('OF:',r)"
   ]
  },
  {
   "cell_type": "code",
   "execution_count": 11,
   "metadata": {},
   "outputs": [],
   "source": [
    "def callback(s,convergence=2):\n",
    "    print('callback',s)"
   ]
  },
  {
   "cell_type": "code",
   "execution_count": 15,
   "metadata": {},
   "outputs": [],
   "source": [
    "it = 100\n",
    "n = 1\n",
    "sols = np.zeros((n, 2))\n",
    "best, bestSol = 10, None\n",
    "for i in range(n):\n",
    "    #r = differential_evolution(objective_function, bounds,popsize=100, args=(ShF, ShM), maxiter=it,callback=callback, polish = False)\n",
    "    r = cnsg_differential_evolution(objective_function,bounds,args=(ShF, ShM),popsize=15,MaxGenerations=it)\n",
    "    print('r',r)\n",
    "    sols[i][0], sols[i][1] = ShF(r), ShM(r)\n",
    "    fitness = objective_function(r,ShF,ShM)\n",
    "    print(\"OF: \", fitness)\n",
    "    if fitness < 1:\n",
    "        #r = gradient_descent(r,calculate_d(r), Vf, VfTd, V2f, V2fTd)\n",
    "        r = gradiente_conjugado(r,ShF,ShM,objective_function)\n",
    "        print(\"after GD -> \", r)\n",
    "    if fitness < best:\n",
    "        best = fitness\n",
    "        bestSol = r"
   ]
  },
  {
   "cell_type": "code",
   "execution_count": null,
   "metadata": {},
   "outputs": [
    {
     "ename": "IndexError",
     "evalue": "only integers, slices (`:`), ellipsis (`...`), numpy.newaxis (`None`) and integer or boolean arrays are valid indices",
     "output_type": "error",
     "traceback": [
      "\u001b[1;31m---------------------------------------------------------------------------\u001b[0m",
      "\u001b[1;31mIndexError\u001b[0m                                Traceback (most recent call last)",
      "Cell \u001b[1;32mIn[26], line 4\u001b[0m\n\u001b[0;32m      1\u001b[0m np\u001b[39m.\u001b[39msavetxt(\u001b[39m'\u001b[39m\u001b[39mSolutions.txt\u001b[39m\u001b[39m'\u001b[39m, sols, delimiter\u001b[39m=\u001b[39m\u001b[39m'\u001b[39m\u001b[39m, \u001b[39m\u001b[39m'\u001b[39m)   \u001b[39m# X is an array\u001b[39;00m\n\u001b[0;32m      3\u001b[0m plt\u001b[39m.\u001b[39mplot(sols[:, \u001b[39m0\u001b[39m], sols[:, \u001b[39m1\u001b[39m], \u001b[39m'\u001b[39m\u001b[39mo\u001b[39m\u001b[39m'\u001b[39m)\n\u001b[1;32m----> 4\u001b[0m plt\u001b[39m.\u001b[39mplot(ShF([\u001b[39m*\u001b[39mbestSol[\u001b[39m'\u001b[39;49m\u001b[39mx\u001b[39;49m\u001b[39m'\u001b[39;49m]]), ShM([\u001b[39m*\u001b[39mbestSol[\u001b[39m'\u001b[39m\u001b[39mx\u001b[39m\u001b[39m'\u001b[39m]]), \u001b[39m'\u001b[39m\u001b[39m^\u001b[39m\u001b[39m'\u001b[39m)\n",
      "\u001b[1;31mIndexError\u001b[0m: only integers, slices (`:`), ellipsis (`...`), numpy.newaxis (`None`) and integer or boolean arrays are valid indices"
     ]
    },
    {
     "data": {
      "image/png": "[encoded data removed]",
      "text/plain": [
       "<Figure size 640x480 with 1 Axes>"
      ]
     },
     "metadata": {},
     "output_type": "display_data"
    }
   ],
   "source": [
    "np.savetxt('Solutions.txt', sols, delimiter=', ')   # X is an array\n",
    "\n",
    "plt.plot(sols[:, 0], sols[:, 1], 'o')\n",
    "plt.plot(ShF(bestSol), ShM(bestSol), '^')"
   ]
  },
  {
   "cell_type": "code",
   "execution_count": null,
   "metadata": {},
   "outputs": [
    {
     "data": {
      "text/plain": [
       "0.7031525142446965"
      ]
     },
     "execution_count": 6,
     "metadata": {},
     "output_type": "execute_result"
    }
   ],
   "source": [
    "np.sqrt(best)"
   ]
  },
  {
   "cell_type": "code",
   "execution_count": null,
   "metadata": {},
   "outputs": [
    {
     "name": "stdout",
     "output_type": "stream",
     "text": [
      "[-2.53961468e-02 -3.41820385e-02  4.00000000e-02 -8.56203714e-02\n",
      " -9.05651136e-03  2.41479977e-02 -5.78430799e-02  6.23291443e-03\n",
      "  4.00000000e-02  6.61220841e-08 -7.38229472e-07  5.00000000e-03\n",
      "  3.33419446e-07 -2.92475917e-07  5.00000000e-03]\n"
     ]
    }
   ],
   "source": [
    "# bestSol\n",
    "print(bestSol.x)"
   ]
  },
  {
   "cell_type": "code",
   "execution_count": null,
   "metadata": {},
   "outputs": [
    {
     "name": "stdout",
     "output_type": "stream",
     "text": [
      "#----> 0\n"
     ]
    },
    {
     "ename": "ValueError",
     "evalue": "The truth value of an array with more than one element is ambiguous. Use a.any() or a.all()",
     "output_type": "error",
     "traceback": [
      "\u001b[1;31m---------------------------------------------------------------------------\u001b[0m",
      "\u001b[1;31mValueError\u001b[0m                                Traceback (most recent call last)",
      "Cell \u001b[1;32mIn[76], line 1\u001b[0m\n\u001b[1;32m----> 1\u001b[0m gradient_descent(bestSol\u001b[39m.\u001b[39;49mx,d, Vf, VfTd, V2f, V2fTd)\n",
      "Cell \u001b[1;32mIn[75], line 14\u001b[0m, in \u001b[0;36mgradient_descent\u001b[1;34m(x, d, Vf, VfTd, V2f, V2fTd)\u001b[0m\n\u001b[0;32m     11\u001b[0m \u001b[39m# if( (two == 0).any() == False):\u001b[39;00m\n\u001b[0;32m     12\u001b[0m \u001b[39m#     a_k = one/two\u001b[39;00m\n\u001b[0;32m     13\u001b[0m \u001b[39mfor\u001b[39;00m i \u001b[39min\u001b[39;00m \u001b[39mrange\u001b[39m(\u001b[39mlen\u001b[39m(one)):\n\u001b[1;32m---> 14\u001b[0m     \u001b[39mif\u001b[39;00m(two[i] \u001b[39m!=\u001b[39;49m \u001b[39m0\u001b[39;49m):\n\u001b[0;32m     15\u001b[0m         a_k[i] \u001b[39m=\u001b[39m one[i]\u001b[39m/\u001b[39mtwo[i]\n\u001b[0;32m     16\u001b[0m     \u001b[39melse\u001b[39;00m:\n",
      "\u001b[1;31mValueError\u001b[0m: The truth value of an array with more than one element is ambiguous. Use a.any() or a.all()"
     ]
    }
   ],
   "source": [
    "gradient_descent(bestSol.x,calculate_d(bestSol.x), Vf, VfTd, V2f, V2fTd)"
   ]
  },
  {
   "cell_type": "code",
   "execution_count": null,
   "metadata": {},
   "outputs": [],
   "source": [
    "# for i in range(sols):\n",
    "#     if(sols[i] < 1):\n",
    "        "
   ]
  }
 ],
 "metadata": {
  "kernelspec": {
   "display_name": "Python 3",
   "language": "python",
   "name": "python3"
  },
  "language_info": {
   "codemirror_mode": {
    "name": "ipython",
    "version": 3
   },
   "file_extension": ".py",
   "mimetype": "text/x-python",
   "name": "python",
   "nbconvert_exporter": "python",
   "pygments_lexer": "ipython3",
   "version": "3.8.10"
  },
  "orig_nbformat": 4,
  "vscode": {
   "interpreter": {
    "hash": "9657f75d11a0452fcf806b36894402ef0911af5c6693254468235952415550fc"
   }
  }
 },
 "nbformat": 4,
 "nbformat_minor": 2
}
