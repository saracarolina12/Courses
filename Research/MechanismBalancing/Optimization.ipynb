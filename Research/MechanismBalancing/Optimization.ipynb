{
 "cells": [
  {
   "attachments": {},
   "cell_type": "markdown",
   "metadata": {},
   "source": [
    "## Six-bar Mechanism Balancing"
   ]
  },
  {
   "cell_type": "code",
   "execution_count": 1,
   "metadata": {},
   "outputs": [],
   "source": [
    "from BetaShF import ShF\n",
    "from BetaShM import ShM \n",
    "import numpy as np \n",
    "from scipy.optimize import differential_evolution\n",
    "import matplotlib.pyplot as plt"
   ]
  },
  {
   "cell_type": "markdown",
   "metadata": {},
   "source": [
    "### Contraints"
   ]
  },
  {
   "attachments": {},
   "cell_type": "markdown",
   "metadata": {},
   "source": [
    "$-0.16m <= x_{cn},y_{cn} <= 0.16m$\n",
    "\n",
    "$0.005m <= t_{cn} <= 0.04m$"
   ]
  },
  {
   "cell_type": "markdown",
   "metadata": {},
   "source": [
    "### Objective Function"
   ]
  },
  {
   "cell_type": "code",
   "execution_count": 2,
   "metadata": {},
   "outputs": [],
   "source": [
    "def objective_function(s, ShF, ShM): #c is a constant that distributes the weight among the functions.\n",
    "    c = 0.5\n",
    "    return c*ShF(s) + c*ShM(s)"
   ]
  },
  {
   "attachments": {},
   "cell_type": "markdown",
   "metadata": {},
   "source": [
    "### Differential Evolution"
   ]
  },
  {
   "cell_type": "code",
   "execution_count": 3,
   "metadata": {},
   "outputs": [],
   "source": [
    "# Bounds for each variable\n",
    "nVar = 5\n",
    "bounds = []\n",
    "for i in range(1,nVar*3+1):\n",
    "    if(i%3==0): bounds.append([0.005,0.04])\n",
    "    else: bounds.append([-0.16, 0.16])\n",
    "#print(bounds)\n"
   ]
  },
  {
   "cell_type": "code",
   "execution_count": 4,
   "metadata": {},
   "outputs": [],
   "source": [
    "it = 5\n",
    "n = 100\n",
    "sols = np.zeros((n, 2))\n",
    "best, bestSol = 10, None\n",
    "for i in range(n):\n",
    "    r = differential_evolution(objective_function, bounds, args=(ShF, ShM), maxiter=it)\n",
    "    sols[i][0], sols[i][1] = ShF([*r['x']]), ShM([*r['x']])\n",
    "    if r['fun'] < best:\n",
    "        best = r['fun']\n",
    "        bestSol = r"
   ]
  },
  {
   "cell_type": "code",
   "execution_count": 5,
   "metadata": {},
   "outputs": [
    {
     "data": {
      "text/plain": [
       "[<matplotlib.lines.Line2D at 0x24995b643d0>]"
      ]
     },
     "execution_count": 5,
     "metadata": {},
     "output_type": "execute_result"
    },
    {
     "data": {
      "image/png": "[encoded data removed]",
      "text/plain": [
       "<Figure size 640x480 with 1 Axes>"
      ]
     },
     "metadata": {},
     "output_type": "display_data"
    }
   ],
   "source": [
    "np.savetxt('Solutions.txt', sols, delimiter=', ')   # X is an array\n",
    "\n",
    "plt.plot(sols[:, 0], sols[:, 1], 'o')\n",
    "plt.plot(ShF([*bestSol['x']]), ShM([*bestSol['x']]), '^')"
   ]
  },
  {
   "cell_type": "code",
   "execution_count": 6,
   "metadata": {},
   "outputs": [
    {
     "data": {
      "text/plain": [
       "0.7031525142446965"
      ]
     },
     "execution_count": 6,
     "metadata": {},
     "output_type": "execute_result"
    }
   ],
   "source": [
    "np.sqrt(best)"
   ]
  },
  {
   "cell_type": "code",
   "execution_count": 7,
   "metadata": {},
   "outputs": [
    {
     "name": "stdout",
     "output_type": "stream",
     "text": [
      "[-2.53961468e-02 -3.41820385e-02  4.00000000e-02 -8.56203714e-02\n",
      " -9.05651136e-03  2.41479977e-02 -5.78430799e-02  6.23291443e-03\n",
      "  4.00000000e-02  6.61220841e-08 -7.38229472e-07  5.00000000e-03\n",
      "  3.33419446e-07 -2.92475917e-07  5.00000000e-03]\n"
     ]
    }
   ],
   "source": [
    "# bestSol\n",
    "print(bestSol.x)"
   ]
  },
  {
   "cell_type": "markdown",
   "metadata": {},
   "source": [
    "### Gradient Descent"
   ]
  },
  {
   "cell_type": "code",
   "execution_count": 35,
   "metadata": {},
   "outputs": [
    {
     "name": "stdout",
     "output_type": "stream",
     "text": [
      "P_k:  [-4.92813128e-03 -7.05055533e-03  3.36407349e-01 -9.96195722e-03\n",
      " -1.29254669e-03 -1.42512433e-02 -7.20656772e-03 -9.30608160e-04\n",
      "  9.41487677e-01 -2.28596025e-04 -1.92329520e-04 -2.45672777e-09\n",
      " -2.94297422e-04 -2.59724606e-04 -1.09152950e-09]\n",
      "f: 0.49442345828863804\n",
      "Vf: [ 8.69674028e-03  1.24422109e-02 -5.93662623e-01  1.75800014e-02\n",
      "  2.28097472e-03  2.51493628e-02  1.27175280e-02  1.64225687e-03\n",
      " -1.66145611e+00  4.03406514e-04  3.39406520e-04  4.33542091e-09\n",
      "  5.19350662e-04  4.58339544e-04  1.92623695e-09]\n",
      "V2f: [[ 1.75190647e+03  1.92670008e+03 -1.21973577e+03 -2.15401562e+03\n",
      "  -2.27869112e+02  2.57315160e+03  2.96181729e+02 -1.84135243e+02\n",
      "  -1.70436477e+02 -2.09221529e-02 -1.76031412e-02  3.33066907e-06\n",
      "   1.02751141e-02  9.06386077e-03 -3.33066907e-06]\n",
      " [ 1.92670008e+03  2.51079286e+03 -1.48565161e+03 -2.63780944e+03\n",
      "  -3.32283171e+02  3.15757714e+03 -3.02893244e+02 -3.08153548e+02\n",
      "   1.08397697e+02 -2.25636176e-02 -1.89787075e-02  5.55111512e-06\n",
      "   8.21565038e-05  7.66053887e-05 -2.77555756e-06]\n",
      " [-1.21973577e+03 -1.48565161e+03  9.56992492e+02  1.76470904e+03\n",
      "   1.82069960e+02 -2.10784545e+03  4.64755701e+01  1.67304646e+02\n",
      "  -4.15852297e+00  1.77263759e-02  1.49169566e-02  7.21644966e-06\n",
      "  -1.49436019e-03 -1.32449607e-03 -3.33066907e-06]\n",
      " [-2.15401562e+03 -2.63780944e+03  1.76470904e+03  3.52062400e+03\n",
      "   3.30518393e+02 -4.20502991e+03  1.13507835e+02  2.76806151e+02\n",
      "  -4.03129730e+01  4.19031476e-02  3.52540219e-02 -2.77555756e-06\n",
      "   3.08308934e-03  2.72226686e-03  0.00000000e+00]\n",
      " [-2.27869112e+02 -3.32283171e+02  1.82069960e+02  3.30518393e+02\n",
      "   4.30189855e+02 -4.44642588e+02 -2.77543306e+02  6.64151040e+01\n",
      "   1.37169490e+02 -1.60982339e-03 -1.35336187e-03  2.22044605e-06\n",
      "  -4.74675854e-03 -4.19220214e-03  2.22044605e-06]\n",
      " [ 2.57315160e+03  3.15757714e+03 -2.10784545e+03 -4.20502991e+03\n",
      "  -4.44642588e+02  5.02568887e+03 -9.75384756e+01 -3.36795281e+02\n",
      "   2.95026009e+01 -4.93977081e-02 -4.15539825e-02 -5.55111512e-07\n",
      "  -3.02535774e-03 -2.66897615e-03 -2.77555756e-06]\n",
      " [ 2.96181729e+02 -3.02893244e+02  4.64755701e+01  1.13507835e+02\n",
      "  -2.77543306e+02 -9.75384756e+01  2.55119555e+03  2.19724202e+02\n",
      "  -1.09850306e+03  2.05446771e-03  1.72861725e-03  3.88578059e-06\n",
      "   4.06524814e-02  3.58801877e-02  0.00000000e+00]\n",
      " [-1.84135243e+02 -3.08153548e+02  1.67304646e+02  2.76806151e+02\n",
      "   6.64151040e+01 -3.36795281e+02  2.19724202e+02  3.19177527e+02\n",
      "  -7.12290449e+01  1.25122135e-03  1.05859765e-03  5.55111512e-07\n",
      "  -4.36817249e-03 -3.85302901e-03  2.22044605e-06]\n",
      " [-1.70436477e+02  1.08397697e+02 -4.15852297e+00 -4.03129730e+01\n",
      "   1.37169490e+02  2.95026009e+01 -1.09850306e+03 -7.12290449e+01\n",
      "   5.29739058e+02 -1.32949207e-03 -1.11521903e-03 -1.66533454e-06\n",
      "  -2.12629914e-02 -1.87655447e-02 -7.21644966e-06]\n",
      " [-2.09221529e-02 -2.25636176e-02  1.77263759e-02  4.19031476e-02\n",
      "  -1.60982339e-03 -4.93977081e-02  2.05446771e-03  1.25122135e-03\n",
      "  -1.32949207e-03  7.96282357e+01  5.80036019e-03  8.06837930e-02\n",
      "  -3.33066907e-06 -4.99600361e-06 -4.99600361e-06]\n",
      " [-1.76031412e-02 -1.89787075e-02  1.49169566e-02  3.52540219e-02\n",
      "  -1.35336187e-03 -4.15539825e-02  1.72861725e-03  1.05859765e-03\n",
      "  -1.11521903e-03  5.80036019e-03  7.96609551e+01  6.78918033e-02\n",
      "  -1.11022302e-06  1.66533454e-06 -2.77555756e-06]\n",
      " [ 3.33066907e-06  5.55111512e-06  7.21644966e-06 -2.77555756e-06\n",
      "   2.22044605e-06 -5.55111512e-07  3.88578059e-06  5.55111512e-07\n",
      "  -1.66533454e-06  8.06837930e-02  6.78918033e-02  5.55111512e-06\n",
      "   3.33066907e-06 -1.11022302e-06  1.66533454e-06]\n",
      " [ 1.02751141e-02  8.21565038e-05 -1.49436019e-03  3.08308934e-03\n",
      "  -4.74675854e-03 -3.02535774e-03  4.06524814e-02 -4.36817249e-03\n",
      "  -2.12629914e-02 -3.33066907e-06 -1.11022302e-06  3.33066907e-06\n",
      "   9.73799336e+01 -5.62383473e-03  1.03874687e-01]\n",
      " [ 9.06386077e-03  7.66053887e-05 -1.32449607e-03  2.72226686e-03\n",
      "  -4.19220214e-03 -2.66897615e-03  3.58801877e-02 -3.85302901e-03\n",
      "  -1.87655447e-02 -4.99600361e-06  1.66533454e-06 -1.11022302e-06\n",
      "  -5.62383473e-03  9.73400777e+01  9.16672294e-02]\n",
      " [-3.33066907e-06 -2.77555756e-06 -3.33066907e-06  0.00000000e+00\n",
      "   2.22044605e-06 -2.77555756e-06  0.00000000e+00  2.22044605e-06\n",
      "  -7.21644966e-06 -4.99600361e-06 -2.77555756e-06  1.66533454e-06\n",
      "   1.03874687e-01  9.16672294e-02  5.55111512e-07]]\n",
      "VfTd: -1.7650045028017034\n",
      "V2fTd: [-6.09743780e+02 -4.40531334e+02  3.46159757e+02  6.08048275e+02\n",
      "  1.98272108e+02 -7.44166657e+02 -1.03593098e+03 -7.61457286e+00\n",
      "  5.05236158e+02 -1.29535271e-02 -1.09029452e-02  6.10622664e-06\n",
      " -4.94893015e-02 -4.36728431e-02 -2.77555756e-06]\n"
     ]
    }
   ],
   "source": [
    "\n",
    "eps = 1e-5\n",
    "def Vf(X,ShF,ShM,f):\n",
    "    n = len(X)\n",
    "    G = np.zeros((n),float)\n",
    "    incX = np.zeros((n),float)\n",
    "    for i in range(n):\n",
    "        incX[i] = eps\n",
    "        G[i] = (f(X+incX,ShF, ShM)-f(X,ShF, ShM))/eps\n",
    "        incX[i] = 0\n",
    "    return G\n",
    "\n",
    "def VfTd(X,ShF, ShM,d,f):\n",
    "    return (f(X+eps*d,ShF, ShM,)-f(X,ShF, ShM,))/eps\n",
    "\n",
    "def V2f(X,ShF,ShM,f):\n",
    "    n = len(X)\n",
    "    H = np.zeros((n,n),float)\n",
    "    incX = np.zeros((n),float)\n",
    "    for i in range(n):\n",
    "        incX[i] = eps\n",
    "        H[:,i] = (Vf(X+incX,ShF,ShM,f)-Vf(X,ShF,ShM,f))/eps\n",
    "        incX[i] = 0\n",
    "    return H\n",
    "\n",
    "def V2fTd(X,ShF, ShM,d,f):\n",
    "    return (Vf(X+eps*d,ShF, ShM,f)-Vf(X,ShF, ShM,f))/eps\n",
    "    \n",
    "# X = np.array([2,3])\n",
    "# d = np.array([5,1])\n",
    "\n",
    "d = -Vf(bestSol.x,ShF,ShM,objective_function)/np.linalg.norm(Vf(bestSol.x, ShF, ShM, objective_function))\n",
    "print(\"P_k: \", d)\n",
    "\n",
    "print('f:',objective_function(bestSol.x,ShF, ShM))\n",
    "print('Vf:',Vf(bestSol.x, ShF, ShM,objective_function))\n",
    "print('V2f:',V2f(bestSol.x, ShF, ShM,objective_function))\n",
    "print('VfTd:',VfTd(bestSol.x, ShF, ShM,d,objective_function))\n",
    "print('V2fTd:',V2fTd(bestSol.x, ShF, ShM,d,objective_function))"
   ]
  },
  {
   "cell_type": "code",
   "execution_count": 75,
   "metadata": {},
   "outputs": [],
   "source": [
    "def gradient_descent(x,d, Vf, VfTd, V2f, V2fTd):\n",
    "    a_k = 0.01\n",
    "    max_iter = 3\n",
    "    k=0\n",
    "    while(k < max_iter and np.linalg.norm(Vf(x, ShF, ShM,objective_function)) > eps ):\n",
    "        print(\"#---->\",k)\n",
    "        # Calculate step size a_k\n",
    "        a_k = (-VfTd(x,ShF, ShM,d,objective_function) * d ) / V2f(x,ShF, ShM,objective_function) * d # P = d\n",
    "        # one = -VfTd(x,ShF, ShM,d,objective_function)*d\n",
    "        # two = d*V2f(x,ShF, ShM,objective_function)\n",
    "        # if( (two == 0).any() == False):\n",
    "        #     a_k = one/two\n",
    "       \n",
    "        # Calculate the direction P_k\n",
    "        d = -Vf(x,ShF,ShM,objective_function)/np.linalg.norm(Vf(x, ShF, ShM, objective_function))\n",
    "        x = x + a_k*d\n",
    "        k+=1\n",
    "        print(\"a_k: \",a_k)\n",
    "        # break\n",
    "    return x"
   ]
  },
  {
   "cell_type": "code",
   "execution_count": 76,
   "metadata": {},
   "outputs": [
    {
     "name": "stdout",
     "output_type": "stream",
     "text": [
      "#----> 0\n"
     ]
    },
    {
     "ename": "ValueError",
     "evalue": "The truth value of an array with more than one element is ambiguous. Use a.any() or a.all()",
     "output_type": "error",
     "traceback": [
      "\u001b[1;31m---------------------------------------------------------------------------\u001b[0m",
      "\u001b[1;31mValueError\u001b[0m                                Traceback (most recent call last)",
      "Cell \u001b[1;32mIn[76], line 1\u001b[0m\n\u001b[1;32m----> 1\u001b[0m gradient_descent(bestSol\u001b[39m.\u001b[39;49mx,d, Vf, VfTd, V2f, V2fTd)\n",
      "Cell \u001b[1;32mIn[75], line 14\u001b[0m, in \u001b[0;36mgradient_descent\u001b[1;34m(x, d, Vf, VfTd, V2f, V2fTd)\u001b[0m\n\u001b[0;32m     11\u001b[0m \u001b[39m# if( (two == 0).any() == False):\u001b[39;00m\n\u001b[0;32m     12\u001b[0m \u001b[39m#     a_k = one/two\u001b[39;00m\n\u001b[0;32m     13\u001b[0m \u001b[39mfor\u001b[39;00m i \u001b[39min\u001b[39;00m \u001b[39mrange\u001b[39m(\u001b[39mlen\u001b[39m(one)):\n\u001b[1;32m---> 14\u001b[0m     \u001b[39mif\u001b[39;00m(two[i] \u001b[39m!=\u001b[39;49m \u001b[39m0\u001b[39;49m):\n\u001b[0;32m     15\u001b[0m         a_k[i] \u001b[39m=\u001b[39m one[i]\u001b[39m/\u001b[39mtwo[i]\n\u001b[0;32m     16\u001b[0m     \u001b[39melse\u001b[39;00m:\n",
      "\u001b[1;31mValueError\u001b[0m: The truth value of an array with more than one element is ambiguous. Use a.any() or a.all()"
     ]
    }
   ],
   "source": [
    "gradient_descent(bestSol.x,d, Vf, VfTd, V2f, V2fTd)"
   ]
  }
 ],
 "metadata": {
  "kernelspec": {
   "display_name": "Python 3",
   "language": "python",
   "name": "python3"
  },
  "language_info": {
   "codemirror_mode": {
    "name": "ipython",
    "version": 3
   },
   "file_extension": ".py",
   "mimetype": "text/x-python",
   "name": "python",
   "nbconvert_exporter": "python",
   "pygments_lexer": "ipython3",
   "version": "3.8.10"
  },
  "orig_nbformat": 4,
  "vscode": {
   "interpreter": {
    "hash": "9657f75d11a0452fcf806b36894402ef0911af5c6693254468235952415550fc"
   }
  }
 },
 "nbformat": 4,
 "nbformat_minor": 2
}
