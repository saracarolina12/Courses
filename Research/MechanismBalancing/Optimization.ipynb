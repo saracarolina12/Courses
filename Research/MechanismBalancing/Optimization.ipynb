{
 "cells": [
  {
   "attachments": {},
   "cell_type": "markdown",
   "metadata": {},
   "source": [
    "## Six-bar Mechanism Balancing"
   ]
  },
  {
   "cell_type": "code",
   "execution_count": 1,
   "metadata": {},
   "outputs": [],
   "source": [
    "from BetaShF import ShF\n",
    "from BetaShM import ShM \n",
    "import numpy as np \n",
    "from scipy.optimize import differential_evolution\n",
    "import matplotlib.pyplot as plt"
   ]
  },
  {
   "cell_type": "markdown",
   "metadata": {},
   "source": [
    "### Contraints"
   ]
  },
  {
   "attachments": {},
   "cell_type": "markdown",
   "metadata": {},
   "source": [
    "$-0.16m <= x_{cn},y_{cn} <= 0.16m$\n",
    "\n",
    "$0.005m <= t_{cn} <= 0.04m$"
   ]
  },
  {
   "cell_type": "markdown",
   "metadata": {},
   "source": [
    "### Objective Function"
   ]
  },
  {
   "cell_type": "code",
   "execution_count": 2,
   "metadata": {},
   "outputs": [],
   "source": [
    "def objective_function(s, ShF, ShM): #c is a constant that distributes the weight among the functions.\n",
    "    c = 0.5\n",
    "    return c*ShF(s) + c*ShM(s)"
   ]
  },
  {
   "attachments": {},
   "cell_type": "markdown",
   "metadata": {},
   "source": [
    "### Differential Evolution"
   ]
  },
  {
   "cell_type": "code",
   "execution_count": 10,
   "metadata": {},
   "outputs": [
    {
     "name": "stdout",
     "output_type": "stream",
     "text": [
      "[[-0.16, 0.16], [-0.16, 0.16], [0.005, 0.04], [-0.16, 0.16], [-0.16, 0.16], [0.005, 0.04], [-0.16, 0.16], [-0.16, 0.16], [0.005, 0.04], [-0.16, 0.16], [-0.16, 0.16], [0.005, 0.04], [-0.16, 0.16], [-0.16, 0.16], [0.005, 0.04]]\n"
     ]
    }
   ],
   "source": [
    "# bounds = [ #x,y,t\n",
    "#     [-0.16, 0.16], \n",
    "#     [-0.16, 0.16], \n",
    "#     [0.005, 0.04], \n",
    "\n",
    "#     [-0.16, 0.16], \n",
    "#     [-0.16, 0.16], \n",
    "#     [0.005, 0.04], \n",
    "\n",
    "#     [-0.16, 0.16], \n",
    "#     [-0.16, 0.16], \n",
    "#     [0.005, 0.04], \n",
    "\n",
    "#     [-0.16, 0.16], \n",
    "#     [-0.16, 0.16], \n",
    "#     [0.005, 0.04], \n",
    "\n",
    "#     [-0.16, 0.16], \n",
    "#     [-0.16, 0.16], \n",
    "#     [0.005, 0.04], \n",
    "# ]\n",
    "\n",
    "nVar = 5\n",
    "bounds = []\n",
    "for i in range(1,nVar*3+1):\n",
    "    if(i%3==0): bounds.append([0.005,0.04])\n",
    "    else: bounds.append([-0.16, 0.16])\n",
    "print(bounds)\n"
   ]
  },
  {
   "cell_type": "code",
   "execution_count": 11,
   "metadata": {},
   "outputs": [],
   "source": [
    "it = 10\n",
    "n = 250\n",
    "sols = np.zeros((n, 2))\n",
    "best, bestSol = 10, None\n",
    "for i in range(n):\n",
    "    r = differential_evolution(objective_function, bounds, args=(ShF, ShM), maxiter=it)\n",
    "    sols[i][0], sols[i][1] = ShF([*r['x']]), ShM([*r['x']])\n",
    "    if r['fun'] < best:\n",
    "        best = r['fun']\n",
    "        bestSol = r"
   ]
  },
  {
   "cell_type": "code",
   "execution_count": null,
   "metadata": {},
   "outputs": [],
   "source": [
    "plt.plot(sols[:, 0], sols[:, 1], 'o')\n",
    "plt.plot(ShF(*bestSol['x']), ShM(*bestSol['x']), '^')"
   ]
  },
  {
   "cell_type": "code",
   "execution_count": null,
   "metadata": {},
   "outputs": [],
   "source": [
    "np.sqrt(best)"
   ]
  },
  {
   "cell_type": "code",
   "execution_count": null,
   "metadata": {},
   "outputs": [],
   "source": [
    "bestSol"
   ]
  },
  {
   "cell_type": "markdown",
   "metadata": {},
   "source": [
    "### Gradient Descent"
   ]
  },
  {
   "cell_type": "code",
   "execution_count": null,
   "metadata": {},
   "outputs": [],
   "source": [
    "def gradient_descent(max_iter):\n",
    "    pass\n"
   ]
  }
 ],
 "metadata": {
  "kernelspec": {
   "display_name": "Python 3",
   "language": "python",
   "name": "python3"
  },
  "language_info": {
   "codemirror_mode": {
    "name": "ipython",
    "version": 3
   },
   "file_extension": ".py",
   "mimetype": "text/x-python",
   "name": "python",
   "nbconvert_exporter": "python",
   "pygments_lexer": "ipython3",
   "version": "3.8.10"
  },
  "orig_nbformat": 4,
  "vscode": {
   "interpreter": {
    "hash": "9657f75d11a0452fcf806b36894402ef0911af5c6693254468235952415550fc"
   }
  }
 },
 "nbformat": 4,
 "nbformat_minor": 2
}
