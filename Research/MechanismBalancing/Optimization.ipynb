{
 "cells": [
  {
   "attachments": {},
   "cell_type": "markdown",
   "metadata": {},
   "source": [
    "## Six-bar Mechanism Balancing"
   ]
  },
  {
   "cell_type": "code",
   "execution_count": 1,
   "metadata": {},
   "outputs": [],
   "source": [
    "from BetaShF import ShF\n",
    "from BetaShM import ShM \n",
    "import numpy as np \n",
    "from scipy.optimize import differential_evolution\n",
    "import matplotlib.pyplot as plt"
   ]
  },
  {
   "cell_type": "markdown",
   "metadata": {},
   "source": [
    "### Contraints"
   ]
  },
  {
   "attachments": {},
   "cell_type": "markdown",
   "metadata": {},
   "source": [
    "$-0.16m <= x_{cn},y_{cn} <= 0.16m$\n",
    "\n",
    "$0.005m <= t_{cn} <= 0.04m$"
   ]
  },
  {
   "cell_type": "markdown",
   "metadata": {},
   "source": [
    "### Objective Function"
   ]
  },
  {
   "cell_type": "code",
   "execution_count": 2,
   "metadata": {},
   "outputs": [],
   "source": [
    "def objective_function(s, ShF, ShM): #c is a constant that distributes the weight among the functions.\n",
    "    c = 0.5\n",
    "    return c*ShF(s) + c*ShM(s)"
   ]
  },
  {
   "attachments": {},
   "cell_type": "markdown",
   "metadata": {},
   "source": [
    "### Differential Evolution"
   ]
  },
  {
   "cell_type": "code",
   "execution_count": 3,
   "metadata": {},
   "outputs": [],
   "source": [
    "# Bounds for each variable\n",
    "nVar = 5\n",
    "bounds = []\n",
    "for i in range(1,nVar*3+1):\n",
    "    if(i%3==0): bounds.append([0.005,0.04])\n",
    "    else: bounds.append([-0.16, 0.16])\n",
    "#print(bounds)\n"
   ]
  },
  {
   "cell_type": "code",
   "execution_count": 4,
   "metadata": {},
   "outputs": [],
   "source": [
    "it = 5\n",
    "n = 100\n",
    "sols = np.zeros((n, 2))\n",
    "best, bestSol = 10, None\n",
    "for i in range(n):\n",
    "    r = differential_evolution(objective_function, bounds, args=(ShF, ShM), maxiter=it)\n",
    "    sols[i][0], sols[i][1] = ShF([*r['x']]), ShM([*r['x']])\n",
    "    if r['fun'] < best:\n",
    "        best = r['fun']\n",
    "        bestSol = r"
   ]
  },
  {
   "cell_type": "code",
   "execution_count": 5,
   "metadata": {},
   "outputs": [
    {
     "data": {
      "text/plain": [
       "[<matplotlib.lines.Line2D at 0x24995b643d0>]"
      ]
     },
     "execution_count": 5,
     "metadata": {},
     "output_type": "execute_result"
    },
    {
     "data": {
      "image/png": "[encoded data removed]",
      "text/plain": [
       "<Figure size 640x480 with 1 Axes>"
      ]
     },
     "metadata": {},
     "output_type": "display_data"
    }
   ],
   "source": [
    "np.savetxt('Solutions.txt', sols, delimiter=', ')   # X is an array\n",
    "\n",
    "plt.plot(sols[:, 0], sols[:, 1], 'o')\n",
    "plt.plot(ShF([*bestSol['x']]), ShM([*bestSol['x']]), '^')"
   ]
  },
  {
   "cell_type": "code",
   "execution_count": 6,
   "metadata": {},
   "outputs": [
    {
     "data": {
      "text/plain": [
       "0.7031525142446965"
      ]
     },
     "execution_count": 6,
     "metadata": {},
     "output_type": "execute_result"
    }
   ],
   "source": [
    "np.sqrt(best)"
   ]
  },
  {
   "cell_type": "code",
   "execution_count": 7,
   "metadata": {},
   "outputs": [
    {
     "name": "stdout",
     "output_type": "stream",
     "text": [
      "[-2.53961468e-02 -3.41820385e-02  4.00000000e-02 -8.56203714e-02\n",
      " -9.05651136e-03  2.41479977e-02 -5.78430799e-02  6.23291443e-03\n",
      "  4.00000000e-02  6.61220841e-08 -7.38229472e-07  5.00000000e-03\n",
      "  3.33419446e-07 -2.92475917e-07  5.00000000e-03]\n"
     ]
    }
   ],
   "source": [
    "# bestSol\n",
    "print(bestSol.x)"
   ]
  },
  {
   "cell_type": "markdown",
   "metadata": {},
   "source": [
    "### Gradient Descent"
   ]
  },
  {
   "cell_type": "code",
   "execution_count": 8,
   "metadata": {},
   "outputs": [
    {
     "name": "stdout",
     "output_type": "stream",
     "text": [
      "f: 13\n",
      "Vf: [4.00001 6.00001]\n",
      "V2f: [[2.00000017 0.        ]\n",
      " [0.         2.00001793]]\n",
      "VfTd: 26.000259999925387\n",
      "V2fTd: [10.00000083  2.00001793]\n"
     ]
    }
   ],
   "source": [
    "\n",
    "def f(x):\n",
    "    return x[0]**2 + x[1]**2\n",
    "\n",
    "eps = 1e-5\n",
    "def Vf(X,f):\n",
    "    n = len(X)\n",
    "    G = np.zeros((n),float)\n",
    "    incX = np.zeros((n),float)\n",
    "    for i in range(n):\n",
    "        incX[i] = eps\n",
    "        G[i] = (f(X+incX)-f(X))/eps\n",
    "        incX[i] = 0\n",
    "    return G\n",
    "\n",
    "def VfTd(X,d,f):\n",
    "    return (f(X+eps*d)-f(X))/eps\n",
    "\n",
    "def V2f(X,f):\n",
    "    n = len(X)\n",
    "    H = np.zeros((n,n),float)\n",
    "    incX = np.zeros((n),float)\n",
    "    for i in range(n):\n",
    "        incX[i] = eps\n",
    "        H[:,i] = (Vf(X+incX,f)-Vf(X,f))/eps\n",
    "        incX[i] = 0\n",
    "    return H\n",
    "\n",
    "def V2fTd(X,d,f):\n",
    "    return (Vf(X+eps*d,f)-Vf(X,f))/eps\n",
    "    \n",
    "X = np.array([2,3])\n",
    "d = np.array([5,1])\n",
    "print('f:',f(X))\n",
    "print('Vf:',Vf(X,f))\n",
    "print('V2f:',V2f(X,f))\n",
    "print('VfTd:',VfTd(X,d,f))\n",
    "print('V2fTd:',V2fTd(X,d,f))"
   ]
  },
  {
   "cell_type": "code",
   "execution_count": 9,
   "metadata": {},
   "outputs": [],
   "source": [
    "# eps = 1e-5\n",
    "# def Vf(X,f): # Gradient Vector using finite difference\n",
    "#     n = len(X)\n",
    "#     G = np.zeros((n),float)\n",
    "#     incX = np.zeros((n),float)\n",
    "#     for i in range(n):\n",
    "#         incX[i] = eps\n",
    "#         G[i] = (f(X+incX, ShF, ShM)-f(X, ShF, ShM))/eps\n",
    "#         incX[i] = 0\n",
    "#     return G\n",
    "\n",
    "# def VfTd(X,d,f): # Gradient multiplied by a vector\n",
    "#     return (f(X+eps*d, ShF, ShM)-f(X, ShF, ShM))/eps\n",
    "\n",
    "# def V2f(X,f): # Hessian with finite difference\n",
    "#     n = len(X)\n",
    "#     H = np.zeros((n,n),float)\n",
    "#     incX = np.zeros((n),float)\n",
    "#     for i in range(n):\n",
    "#         incX[i] = eps\n",
    "#         H[:,i] = (Vf(X+incX,f)-Vf(X,f))/eps\n",
    "#         incX[i] = 0\n",
    "#     return H\n",
    "\n",
    "# def V2fTd(X,d,f): # Hessian multiplied by a vector\n",
    "#     return (Vf(X+eps*d,f)-Vf(X,f))/eps\n",
    "\n",
    "\n",
    "\n",
    "    \n",
    "# X = np.array([2,3])\n",
    "# d = np.array([5,1])\n",
    "# print('f:',objective_function(X, ShF, ShM))\n",
    "# print('Vf:',Vf(X,objective_function))\n",
    "# print('V2f:',V2f(X,objective_function))\n",
    "# print('VfTd:',VfTd(X,d,objective_function))\n",
    "# print('V2fTd:',V2fTd(X,d,objective_function))"
   ]
  },
  {
   "cell_type": "code",
   "execution_count": 10,
   "metadata": {},
   "outputs": [],
   "source": [
    "def gradient_descent(x, Vf, VfTd, V2f, V2fTd):\n",
    "    max_iter = 3\n",
    "    k=0\n",
    "    while(k < max_iter and np.linalg.norm(Vf(x, objective_function)) > eps ):\n",
    "        print(k)\n",
    "        # Calculate step size a_k\n",
    "        a_k = (-VfTd(x,d,objective_function) * d ) / V2f(x) * d # P = d\n",
    "        # Calculate the direction P_k\n",
    "        d = (-Vf(x, objective_function))/np.linalg.norm(Vf(x, objective_function))\n",
    "        x = x + a_k*d\n",
    "        k+=1\n",
    "    return x"
   ]
  },
  {
   "cell_type": "code",
   "execution_count": 11,
   "metadata": {},
   "outputs": [
    {
     "ename": "TypeError",
     "evalue": "objective_function() missing 2 required positional arguments: 'ShF' and 'ShM'",
     "output_type": "error",
     "traceback": [
      "\u001b[1;31m---------------------------------------------------------------------------\u001b[0m",
      "\u001b[1;31mTypeError\u001b[0m                                 Traceback (most recent call last)",
      "Cell \u001b[1;32mIn[11], line 1\u001b[0m\n\u001b[1;32m----> 1\u001b[0m \u001b[39mprint\u001b[39m(gradient_descent(bestSol\u001b[39m.\u001b[39;49mx, Vf, VfTd, V2f, V2fTd))\n",
      "Cell \u001b[1;32mIn[10], line 4\u001b[0m, in \u001b[0;36mgradient_descent\u001b[1;34m(x, Vf, VfTd, V2f, V2fTd)\u001b[0m\n\u001b[0;32m      2\u001b[0m max_iter \u001b[39m=\u001b[39m \u001b[39m3\u001b[39m\n\u001b[0;32m      3\u001b[0m k\u001b[39m=\u001b[39m\u001b[39m0\u001b[39m\n\u001b[1;32m----> 4\u001b[0m \u001b[39mwhile\u001b[39;00m(k \u001b[39m<\u001b[39m max_iter \u001b[39mand\u001b[39;00m np\u001b[39m.\u001b[39mlinalg\u001b[39m.\u001b[39mnorm(Vf(x, objective_function)) \u001b[39m>\u001b[39m eps ):\n\u001b[0;32m      5\u001b[0m     \u001b[39mprint\u001b[39m(k)\n\u001b[0;32m      6\u001b[0m     \u001b[39m# Calculate step size a_k\u001b[39;00m\n",
      "Cell \u001b[1;32mIn[8], line 11\u001b[0m, in \u001b[0;36mVf\u001b[1;34m(X, f)\u001b[0m\n\u001b[0;32m      9\u001b[0m \u001b[39mfor\u001b[39;00m i \u001b[39min\u001b[39;00m \u001b[39mrange\u001b[39m(n):\n\u001b[0;32m     10\u001b[0m     incX[i] \u001b[39m=\u001b[39m eps\n\u001b[1;32m---> 11\u001b[0m     G[i] \u001b[39m=\u001b[39m (f(X\u001b[39m+\u001b[39;49mincX)\u001b[39m-\u001b[39mf(X))\u001b[39m/\u001b[39meps\n\u001b[0;32m     12\u001b[0m     incX[i] \u001b[39m=\u001b[39m \u001b[39m0\u001b[39m\n\u001b[0;32m     13\u001b[0m \u001b[39mreturn\u001b[39;00m G\n",
      "\u001b[1;31mTypeError\u001b[0m: objective_function() missing 2 required positional arguments: 'ShF' and 'ShM'"
     ]
    }
   ],
   "source": [
    "print(gradient_descent(bestSol.x, Vf, VfTd, V2f, V2fTd))"
   ]
  }
 ],
 "metadata": {
  "kernelspec": {
   "display_name": "Python 3",
   "language": "python",
   "name": "python3"
  },
  "language_info": {
   "codemirror_mode": {
    "name": "ipython",
    "version": 3
   },
   "file_extension": ".py",
   "mimetype": "text/x-python",
   "name": "python",
   "nbconvert_exporter": "python",
   "pygments_lexer": "ipython3",
   "version": "3.8.10"
  },
  "orig_nbformat": 4,
  "vscode": {
   "interpreter": {
    "hash": "9657f75d11a0452fcf806b36894402ef0911af5c6693254468235952415550fc"
   }
  }
 },
 "nbformat": 4,
 "nbformat_minor": 2
}
