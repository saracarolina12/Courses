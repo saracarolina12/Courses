{
 "cells": [
  {
   "attachments": {},
   "cell_type": "markdown",
   "metadata": {},
   "source": [
    "## Six-bar Mechanism Balancing"
   ]
  },
  {
   "cell_type": "code",
   "execution_count": 1,
   "metadata": {},
   "outputs": [],
   "source": [
    "from BetaShF import ShF\n",
    "from BetaShM import ShM \n",
    "import numpy as np \n",
    "from scipy.optimize import differential_evolution\n",
    "import matplotlib.pyplot as plt"
   ]
  },
  {
   "cell_type": "markdown",
   "metadata": {},
   "source": [
    "### Contraints"
   ]
  },
  {
   "attachments": {},
   "cell_type": "markdown",
   "metadata": {},
   "source": [
    "$-0.16m <= x_{cn},y_{cn} <= 0.16m$\n",
    "\n",
    "$0.005m <= t_{cn} <= 0.04m$"
   ]
  },
  {
   "cell_type": "markdown",
   "metadata": {},
   "source": [
    "### Objective Function"
   ]
  },
  {
   "cell_type": "code",
   "execution_count": 2,
   "metadata": {},
   "outputs": [],
   "source": [
    "def objective_function(s, ShF, ShM): #c is a constant that distributes the weight among the functions.\n",
    "    c = 0.5\n",
    "    return c*ShF(s) + c*ShM(s)"
   ]
  },
  {
   "attachments": {},
   "cell_type": "markdown",
   "metadata": {},
   "source": [
    "### Differential Evolution"
   ]
  },
  {
   "cell_type": "code",
   "execution_count": 14,
   "metadata": {},
   "outputs": [],
   "source": [
    "# Bounds for each variable\n",
    "nVar = 5\n",
    "bounds = []\n",
    "for i in range(1,nVar*3+1):\n",
    "    if(i%3==0): bounds.append([0.005,0.04])\n",
    "    else: bounds.append([-0.16, 0.16])\n",
    "#print(bounds)\n"
   ]
  },
  {
   "cell_type": "code",
   "execution_count": 9,
   "metadata": {},
   "outputs": [],
   "source": [
    "it = 5\n",
    "n = 100\n",
    "sols = np.zeros((n, 2))\n",
    "best, bestSol = 10, None\n",
    "for i in range(n):\n",
    "    r = differential_evolution(objective_function, bounds, args=(ShF, ShM), maxiter=it)\n",
    "    sols[i][0], sols[i][1] = ShF([*r['x']]), ShM([*r['x']])\n",
    "    if r['fun'] < best:\n",
    "        best = r['fun']\n",
    "        bestSol = r"
   ]
  },
  {
   "cell_type": "code",
   "execution_count": 52,
   "metadata": {},
   "outputs": [
    {
     "name": "stdout",
     "output_type": "stream",
     "text": [
      "     fun: 0.49442345827960354\n",
      "     jac: array([-4.85167462e-05, -5.33462163e-06, -5.98481253e-01, -4.48419080e-05,\n",
      "       -9.46132062e-05,  8.29392110e-05,  6.69797551e-05, -5.24580379e-05,\n",
      "       -1.66415768e+00, -4.78672657e-05,  3.45445894e-05,  5.55111512e-09,\n",
      "        3.19744231e-06, -2.16660023e-05,  0.00000000e+00])\n",
      " message: 'Maximum number of iterations has been exceeded.'\n",
      "    nfev: 2710\n",
      "     nit: 5\n",
      " success: False\n",
      "       x: array([-2.53963929e-02, -3.41818242e-02,  4.00000000e-02, -7.95848122e-02,\n",
      "       -8.41851557e-03,  3.00691346e-02, -5.78430159e-02,  6.23265802e-03,\n",
      "        4.00000000e-02, -2.22163786e-07,  1.51958113e-07,  1.38293965e-02,\n",
      "        2.80239530e-08, -2.27563590e-07,  5.00000013e-03])\n"
     ]
    },
    {
     "data": {
      "text/plain": [
       "[<matplotlib.lines.Line2D at 0x1d2cb9d25e0>]"
      ]
     },
     "execution_count": 52,
     "metadata": {},
     "output_type": "execute_result"
    },
    {
     "data": {
      "image/png": "[encoded data removed]",
      "text/plain": [
       "<Figure size 640x480 with 1 Axes>"
      ]
     },
     "metadata": {},
     "output_type": "display_data"
    }
   ],
   "source": [
    "np.savetxt('Solutions.txt', sols, delimiter=', ')   # X is an array\n",
    "print(bestSol)\n",
    "\n",
    "plt.plot(sols[:, 0], sols[:, 1], 'o')\n",
    "plt.plot(ShF([*bestSol['x']]), ShM([*bestSol['x']]), '.')"
   ]
  },
  {
   "cell_type": "code",
   "execution_count": 11,
   "metadata": {},
   "outputs": [
    {
     "data": {
      "text/plain": [
       "0.7031525142382722"
      ]
     },
     "execution_count": 11,
     "metadata": {},
     "output_type": "execute_result"
    }
   ],
   "source": [
    "np.sqrt(best)"
   ]
  },
  {
   "cell_type": "code",
   "execution_count": 12,
   "metadata": {},
   "outputs": [
    {
     "data": {
      "text/plain": [
       "     fun: 0.49442345827960354\n",
       "     jac: array([-4.85167462e-05, -5.33462163e-06, -5.98481253e-01, -4.48419080e-05,\n",
       "       -9.46132062e-05,  8.29392110e-05,  6.69797551e-05, -5.24580379e-05,\n",
       "       -1.66415768e+00, -4.78672657e-05,  3.45445894e-05,  5.55111512e-09,\n",
       "        3.19744231e-06, -2.16660023e-05,  0.00000000e+00])\n",
       " message: 'Maximum number of iterations has been exceeded.'\n",
       "    nfev: 2710\n",
       "     nit: 5\n",
       " success: False\n",
       "       x: array([-2.53963929e-02, -3.41818242e-02,  4.00000000e-02, -7.95848122e-02,\n",
       "       -8.41851557e-03,  3.00691346e-02, -5.78430159e-02,  6.23265802e-03,\n",
       "        4.00000000e-02, -2.22163786e-07,  1.51958113e-07,  1.38293965e-02,\n",
       "        2.80239530e-08, -2.27563590e-07,  5.00000013e-03])"
      ]
     },
     "execution_count": 12,
     "metadata": {},
     "output_type": "execute_result"
    }
   ],
   "source": [
    "bestSol"
   ]
  },
  {
   "cell_type": "markdown",
   "metadata": {},
   "source": [
    "### Gradient Descent"
   ]
  },
  {
   "cell_type": "code",
   "execution_count": 13,
   "metadata": {},
   "outputs": [],
   "source": [
    "def gradient_descent(max_iter, x_0):\n",
    "    \n",
    "    \n",
    "\n",
    "    '''\n",
    "        while i < max_iter && \n",
    "    \n",
    "    '''\n"
   ]
  }
 ],
 "metadata": {
  "kernelspec": {
   "display_name": "Python 3",
   "language": "python",
   "name": "python3"
  },
  "language_info": {
   "codemirror_mode": {
    "name": "ipython",
    "version": 3
   },
   "file_extension": ".py",
   "mimetype": "text/x-python",
   "name": "python",
   "nbconvert_exporter": "python",
   "pygments_lexer": "ipython3",
   "version": "3.8.10"
  },
  "orig_nbformat": 4,
  "vscode": {
   "interpreter": {
    "hash": "9657f75d11a0452fcf806b36894402ef0911af5c6693254468235952415550fc"
   }
  }
 },
 "nbformat": 4,
 "nbformat_minor": 2
}
