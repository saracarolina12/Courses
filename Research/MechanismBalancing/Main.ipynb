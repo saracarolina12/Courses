{
 "cells": [
  {
   "cell_type": "code",
   "execution_count": 8,
   "metadata": {},
   "outputs": [],
   "source": [
    "from BetaShF import ShF\n",
    "from BetaShM import ShM \n",
    "import numpy as np \n",
    "import matplotlib.pyplot as plt\n",
    "import time"
   ]
  },
  {
   "cell_type": "code",
   "execution_count": 9,
   "metadata": {},
   "outputs": [],
   "source": [
    "def logSample(prefix, sample, fitness, force, moment):\n",
    "    def appendToFile(name, text): \n",
    "        with open(\"./experiments/\"+name, \"a\") as f:\n",
    "            f.write(text + '\\n')\n",
    "    s = \"\"\n",
    "    for x in sample: s += str(x) + \" \"\n",
    "    appendToFile(str(prefix) + \"_Population.txt\", s)\n",
    "    appendToFile(str(prefix) + \"_Fitness.txt\", str(fitness))\n",
    "    appendToFile(str(prefix) + \"_ShForces.txt\", str(force))\n",
    "    appendToFile(str(prefix) + \"_ShMoments.txt\", str(moment))"
   ]
  },
  {
   "attachments": {},
   "cell_type": "markdown",
   "metadata": {},
   "source": [
    "#### Objective Function"
   ]
  },
  {
   "cell_type": "code",
   "execution_count": 10,
   "metadata": {},
   "outputs": [],
   "source": [
    "def objective_function(s, ShF, ShM, beta): #c is a constant that distributes the weight among the functions.\n",
    "    print(f\"Got {'-' * 15} {beta}\")\n",
    "    return beta*ShF(s) + (1-beta)*ShM(s)"
   ]
  },
  {
   "cell_type": "code",
   "execution_count": 11,
   "metadata": {},
   "outputs": [
    {
     "name": "stdout",
     "output_type": "stream",
     "text": [
      "bounds [[-0.16   0.16 ]\n",
      " [-0.16   0.16 ]\n",
      " [ 0.005  0.04 ]\n",
      " [-0.16   0.16 ]\n",
      " [-0.16   0.16 ]\n",
      " [ 0.005  0.04 ]\n",
      " [-0.16   0.16 ]\n",
      " [-0.16   0.16 ]\n",
      " [ 0.005  0.04 ]\n",
      " [-0.16   0.16 ]\n",
      " [-0.16   0.16 ]\n",
      " [ 0.005  0.04 ]\n",
      " [-0.16   0.16 ]\n",
      " [-0.16   0.16 ]\n",
      " [ 0.005  0.04 ]]\n"
     ]
    }
   ],
   "source": [
    "# Bounds for each variable\n",
    "nVar = 5\n",
    "bounds = []\n",
    "for i in range(1,nVar*3+1):\n",
    "    if(i%3==0): bounds.append([0.005,0.04])\n",
    "    else: bounds.append([-0.16, 0.16])\n",
    "bounds = np.array(bounds)\n",
    "print('bounds',bounds)"
   ]
  },
  {
   "cell_type": "markdown",
   "metadata": {},
   "source": [
    "#### GD"
   ]
  },
  {
   "cell_type": "code",
   "execution_count": 12,
   "metadata": {},
   "outputs": [],
   "source": [
    "#################### Descenso de Gradiente con diferenciación finita\n",
    "def Gradient_Descent(X0,f,bounds,MaxIter=1000,alpha=1e-3, beta = 0.5):\n",
    "    eps = 1e-5\n",
    "    def Gradiente(X,f, ShF, ShM, beta):\n",
    "        n = len(X)\n",
    "        G = np.zeros((n),float)\n",
    "        incX = np.zeros((n),float)\n",
    "        for i in range(n):\n",
    "            incX[i] = eps\n",
    "            G[i] = (f(X+incX, ShF, ShM, beta)-f(X, ShF, ShM, beta))/eps\n",
    "            incX[i] = 0\n",
    "        return G\n",
    "    def getStepSize(alpha,beta,m,X,P,G,f):\n",
    "        c0 = 1e-4\n",
    "        c1 = 2\n",
    "        c2 = 5\n",
    "        c3 = 3\n",
    "        eps = 1e-8\n",
    "        while f(X+alpha*P, ShF, ShM, beta) > f(X, ShF, ShM, beta)+c0*np.dot(G,P):\n",
    "            m = 0\n",
    "            alpha = alpha/c1\n",
    "            if alpha<=eps:\n",
    "                break\n",
    "        m += 1\n",
    "        if m>=c2:\n",
    "            m=0\n",
    "            alpha = c3*alpha\n",
    "        return alpha,m\n",
    "\n",
    "    k=0\n",
    "    X = X0\n",
    "    G = Gradiente(X,f, ShF, ShM, beta)\n",
    "    normaGradiente = np.linalg.norm(G)\n",
    "    m = 0\n",
    "    while(k<=MaxIter and normaGradiente>=eps):\n",
    "        G = Gradiente(X0,f, ShF, ShM, beta)\n",
    "        normaGradiente = np.linalg.norm(G)\n",
    "        P = - G / normaGradiente\n",
    "        alpha,m = getStepSize(alpha,beta,m,X,P,G,f)\n",
    "        X = X + alpha*P\n",
    "        X = np.clip(X,bounds[:,0],bounds[:,1])\n",
    "        k = k+1\n",
    "        if k%100 == 0:\n",
    "            print(\"\\t\\t#\",k,f(X, ShF, ShM, beta))\n",
    "    return X\n"
   ]
  },
  {
   "cell_type": "code",
   "execution_count": null,
   "metadata": {},
   "outputs": [],
   "source": []
  },
  {
   "cell_type": "code",
   "execution_count": null,
   "metadata": {},
   "outputs": [],
   "source": []
  }
 ],
 "metadata": {
  "kernelspec": {
   "display_name": "Python 3",
   "language": "python",
   "name": "python3"
  },
  "language_info": {
   "codemirror_mode": {
    "name": "ipython",
    "version": 3
   },
   "file_extension": ".py",
   "mimetype": "text/x-python",
   "name": "python",
   "nbconvert_exporter": "python",
   "pygments_lexer": "ipython3",
   "version": "3.11.2"
  },
  "orig_nbformat": 4
 },
 "nbformat": 4,
 "nbformat_minor": 2
}
