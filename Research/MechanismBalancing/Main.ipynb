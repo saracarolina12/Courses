{
 "cells": [
  {
   "cell_type": "code",
   "execution_count": 1,
   "metadata": {},
   "outputs": [],
   "source": [
    "from BetaShF import ShF\n",
    "from BetaShM import ShM \n",
    "import numpy as np \n",
    "import matplotlib.pyplot as plt\n",
    "import time"
   ]
  },
  {
   "cell_type": "code",
   "execution_count": 2,
   "metadata": {},
   "outputs": [],
   "source": [
    "def logSample(prefix, sample, fitness, force, moment):\n",
    "    def appendToFile(name, text): \n",
    "        with open(\"./experiments/\"+name, \"a\") as f:\n",
    "            f.write(text + '\\n')\n",
    "    s = \"\"\n",
    "    for x in sample: s += str(x) + \" \"\n",
    "    appendToFile(str(prefix) + \"_Population.txt\", s)\n",
    "    appendToFile(str(prefix) + \"_Fitness.txt\", str(fitness))\n",
    "    appendToFile(str(prefix) + \"_ShForces.txt\", str(force))\n",
    "    appendToFile(str(prefix) + \"_ShMoments.txt\", str(moment))"
   ]
  },
  {
   "attachments": {},
   "cell_type": "markdown",
   "metadata": {},
   "source": [
    "#### Objective Function"
   ]
  },
  {
   "cell_type": "code",
   "execution_count": 3,
   "metadata": {},
   "outputs": [],
   "source": [
    "def objective_function(s, ShF, ShM, beta): #c is a constant that distributes the weight among the functions.\n",
    "    return beta*ShF(s) + (1-beta)*ShM(s)"
   ]
  },
  {
   "cell_type": "code",
   "execution_count": 4,
   "metadata": {},
   "outputs": [
    {
     "name": "stdout",
     "output_type": "stream",
     "text": [
      "bounds [[-0.16   0.16 ]\n",
      " [-0.16   0.16 ]\n",
      " [ 0.005  0.04 ]\n",
      " [-0.16   0.16 ]\n",
      " [-0.16   0.16 ]\n",
      " [ 0.005  0.04 ]\n",
      " [-0.16   0.16 ]\n",
      " [-0.16   0.16 ]\n",
      " [ 0.005  0.04 ]\n",
      " [-0.16   0.16 ]\n",
      " [-0.16   0.16 ]\n",
      " [ 0.005  0.04 ]\n",
      " [-0.16   0.16 ]\n",
      " [-0.16   0.16 ]\n",
      " [ 0.005  0.04 ]]\n"
     ]
    }
   ],
   "source": [
    "# Bounds for each variable\n",
    "nVar = 5\n",
    "bounds = []\n",
    "for i in range(1,nVar*3+1):\n",
    "    if(i%3==0): bounds.append([0.005,0.04])\n",
    "    else: bounds.append([-0.16, 0.16])\n",
    "bounds = np.array(bounds)\n",
    "print('bounds',bounds)"
   ]
  },
  {
   "cell_type": "markdown",
   "metadata": {},
   "source": [
    "#### GD"
   ]
  },
  {
   "cell_type": "code",
   "execution_count": 5,
   "metadata": {},
   "outputs": [],
   "source": [
    "#################### Descenso de Gradiente con diferenciación finita\n",
    "def Gradient_Descent(X0,f,bounds,MaxIter=1000,alpha=1e-3, args = ()):\n",
    "    eps = 1e-5\n",
    "    def Gradiente(X,f, args = ()):\n",
    "        n = len(X)\n",
    "        G = np.zeros((n),float)\n",
    "        incX = np.zeros((n),float)\n",
    "        for i in range(n):\n",
    "            incX[i] = eps\n",
    "            G[i] = (f(X+incX, *args)-f(X, *args))/eps\n",
    "            incX[i] = 0\n",
    "        return G\n",
    "    def getStepSize(alpha,m,X,P,G,f, args = ()):\n",
    "        c0 = 1e-4\n",
    "        c1 = 2\n",
    "        c2 = 5\n",
    "        c3 = 3\n",
    "        eps = 1e-8\n",
    "        while f(X+alpha*P, *args) > f(X, *args)+c0*np.dot(G,P):\n",
    "            m = 0\n",
    "            alpha = alpha/c1\n",
    "            if alpha<=eps:\n",
    "                break\n",
    "        m += 1\n",
    "        if m>=c2:\n",
    "            m=0\n",
    "            alpha = c3*alpha\n",
    "        return alpha,m\n",
    "\n",
    "    k=0\n",
    "    X = X0\n",
    "    G = Gradiente(X,f, args)\n",
    "    normaGradiente = np.linalg.norm(G)\n",
    "    m = 0\n",
    "    while(k<=MaxIter and normaGradiente>=eps):\n",
    "        G = Gradiente(X0,f, args)\n",
    "        normaGradiente = np.linalg.norm(G)\n",
    "        P = - G / normaGradiente\n",
    "        alpha,m = getStepSize(alpha,m,X,P,G,f, args)\n",
    "        X = X + alpha*P\n",
    "        X = np.clip(X,bounds[:,0],bounds[:,1])\n",
    "        k = k+1\n",
    "        if k%100 == 0:\n",
    "            print(\"\\t\\t#\",k,f(X, *args))\n",
    "    return X\n"
   ]
  },
  {
   "cell_type": "code",
   "execution_count": 6,
   "metadata": {},
   "outputs": [
    {
     "name": "stdout",
     "output_type": "stream",
     "text": [
      "[0.12173408 0.0228091  0.02986408 0.14795922 0.06884018 0.01371245\n",
      " 0.06054481 0.08699946 0.0253125  0.04012633 0.11779958 0.0115934\n",
      " 0.00263805 0.10570684 0.03578206]\n"
     ]
    }
   ],
   "source": [
    "def random_start(bounds):\n",
    "    arr = np.zeros(bounds.shape[0])\n",
    "    for i, tupl in enumerate(bounds):\n",
    "        rand = np.random.uniform(tupl[0], tupl[1])\n",
    "        arr[i] = rand \n",
    "    return arr\n",
    "    \n",
    "print(random_start(bounds))"
   ]
  },
  {
   "cell_type": "code",
   "execution_count": 7,
   "metadata": {},
   "outputs": [],
   "source": [
    "# it = 80\n",
    "# n = 4\n",
    "def GD(GD_alph, iter, nRuns):\n",
    "    startTime_GD = str(int(time.time()))\n",
    "    eTime = 0\n",
    "\n",
    "    print(f'\\n* Number of iterations: {iter}')\n",
    "    for i in range(nRuns):\n",
    "        r = random_start(bounds)\n",
    "        beta = np.random.normal(0.5, 0.20)\n",
    "        fitness = objective_function(r, ShF, ShM, beta)\n",
    "\n",
    "        print(f\"\\t\\nInitial Fitness: {fitness} in #{i}\")\n",
    "        start = time.perf_counter()\n",
    "        r = Gradient_Descent(r,objective_function, bounds,MaxIter=iter, alpha=GD_alph, args=(ShF, ShM, beta))\n",
    "        end = time.perf_counter()\n",
    "        fit_GD = objective_function(r,ShF,ShM, beta)\n",
    "        print(\"\\t  - before: \", fitness)\n",
    "        print(\"\\t  - after (GD): \", fit_GD)\n",
    "        eTime += (end-start) #Time in seconds\n",
    "        shF, shM = ShF(r), ShM(r)\n",
    "        if shF < 1 and shM < 1:\n",
    "            logSample(startTime_GD, r, fit_GD, shF, shM) # (now, sample, fitness, force, moment):\n",
    "    if nRuns: eTime /= nRuns\n",
    "    print(\"Average time of execution:\", eTime,\"seconds. It was run\", nRuns, \"times.\")\n",
    "    # return fit_GD"
   ]
  },
  {
   "cell_type": "code",
   "execution_count": 13,
   "metadata": {},
   "outputs": [],
   "source": [
    "it = 1000\n",
    "nRuns = 100"
   ]
  },
  {
   "cell_type": "code",
   "execution_count": 9,
   "metadata": {},
   "outputs": [
    {
     "name": "stdout",
     "output_type": "stream",
     "text": [
      "\n",
      "* Number of iterations: 100\n",
      "\t\n",
      "Initial Fitness: 47.625849787495305 in #0\n",
      "\t\t# 100 47.62582401531999\n",
      "\t  - before:  47.625849787495305\n",
      "\t  - after (GD):  47.62582401531999\n",
      "\t\n",
      "Initial Fitness: 56.92045515452459 in #1\n",
      "\t\t# 100 56.92040421778029\n",
      "\t  - before:  56.92045515452459\n",
      "\t  - after (GD):  56.92040421778029\n",
      "\t\n",
      "Initial Fitness: 26.752624589528004 in #2\n",
      "\t\t# 100 26.75260770953297\n",
      "\t  - before:  26.752624589528004\n",
      "\t  - after (GD):  26.75260770953297\n",
      "Average time of execution: 57.52570926666764 seconds. It was run 3 times.\n",
      "None\n"
     ]
    }
   ],
   "source": [
    "GD(1e-5, it, nRuns)"
   ]
  },
  {
   "cell_type": "code",
   "execution_count": 10,
   "metadata": {},
   "outputs": [
    {
     "name": "stdout",
     "output_type": "stream",
     "text": [
      "\n",
      "* Number of iterations: 100\n",
      "\t\n",
      "Initial Fitness: 32.15063658129415 in #0\n",
      "\t\t# 100 3.0478674607341825\n",
      "\t  - before:  32.15063658129415\n",
      "\t  - after (GD):  3.0478674607341825\n",
      "\t\n",
      "Initial Fitness: 50.05931740819348 in #1\n",
      "\t\t# 100 15.470005377868148\n",
      "\t  - before:  50.05931740819348\n",
      "\t  - after (GD):  15.469837865014858\n",
      "\t\n",
      "Initial Fitness: 25.843819490431525 in #2\n",
      "\t\t# 100 12.999227137518837\n",
      "\t  - before:  25.843819490431525\n",
      "\t  - after (GD):  13.02234353901232\n",
      "Average time of execution: 59.52448293333388 seconds. It was run 3 times.\n",
      "None\n"
     ]
    }
   ],
   "source": [
    "GD(1e-3, it, nRuns)"
   ]
  },
  {
   "cell_type": "code",
   "execution_count": 11,
   "metadata": {},
   "outputs": [
    {
     "name": "stdout",
     "output_type": "stream",
     "text": [
      "\n",
      "* Number of iterations: 100\n",
      "\t\n",
      "Initial Fitness: 76.12453805064486 in #0\n",
      "\t\t# 100 76.12451677097917\n",
      "\t  - before:  76.12453805064486\n",
      "\t  - after (GD):  76.12451677097917\n",
      "\t\n",
      "Initial Fitness: 111.47306877825972 in #1\n",
      "\t\t# 100 111.47304344565731\n",
      "\t  - before:  111.47306877825972\n",
      "\t  - after (GD):  111.47304344565731\n",
      "\t\n",
      "Initial Fitness: 50.69712288978097 in #2\n",
      "\t\t# 100 50.69710729804423\n",
      "\t  - before:  50.69712288978097\n",
      "\t  - after (GD):  50.69710729804423\n",
      "Average time of execution: 60.0233203000001 seconds. It was run 3 times.\n",
      "None\n"
     ]
    }
   ],
   "source": [
    "GD(1e-8, it, nRuns)"
   ]
  },
  {
   "cell_type": "code",
   "execution_count": 14,
   "metadata": {},
   "outputs": [
    {
     "name": "stdout",
     "output_type": "stream",
     "text": [
      "\n",
      "* Number of iterations: 1000\n",
      "\t\n",
      "Initial Fitness: 5.3856679654383655 in #0\n",
      "\t\t# 100 5.385665993263544\n",
      "\t\t# 200 5.385665993263544\n",
      "\t\t# 300 5.385665993263544\n",
      "\t\t# 400 5.385665993263544\n",
      "\t\t# 500 5.385665993263544\n"
     ]
    },
    {
     "ename": "KeyboardInterrupt",
     "evalue": "",
     "output_type": "error",
     "traceback": [
      "\u001b[1;31m---------------------------------------------------------------------------\u001b[0m",
      "\u001b[1;31mKeyboardInterrupt\u001b[0m                         Traceback (most recent call last)",
      "Cell \u001b[1;32mIn[14], line 1\u001b[0m\n\u001b[1;32m----> 1\u001b[0m GD(\u001b[39m1e-4\u001b[39;49m, it, nRuns)\n",
      "Cell \u001b[1;32mIn[7], line 15\u001b[0m, in \u001b[0;36mGD\u001b[1;34m(GD_alph, iter, nRuns)\u001b[0m\n\u001b[0;32m     13\u001b[0m \u001b[39mprint\u001b[39m(\u001b[39mf\u001b[39m\u001b[39m\"\u001b[39m\u001b[39m\\t\u001b[39;00m\u001b[39m\\n\u001b[39;00m\u001b[39mInitial Fitness: \u001b[39m\u001b[39m{\u001b[39;00mfitness\u001b[39m}\u001b[39;00m\u001b[39m in #\u001b[39m\u001b[39m{\u001b[39;00mi\u001b[39m}\u001b[39;00m\u001b[39m\"\u001b[39m)\n\u001b[0;32m     14\u001b[0m start \u001b[39m=\u001b[39m time\u001b[39m.\u001b[39mperf_counter()\n\u001b[1;32m---> 15\u001b[0m r \u001b[39m=\u001b[39m Gradient_Descent(r,objective_function, bounds,MaxIter\u001b[39m=\u001b[39;49m\u001b[39miter\u001b[39;49m, alpha\u001b[39m=\u001b[39;49mGD_alph, args\u001b[39m=\u001b[39;49m(ShF, ShM, beta))\n\u001b[0;32m     16\u001b[0m end \u001b[39m=\u001b[39m time\u001b[39m.\u001b[39mperf_counter()\n\u001b[0;32m     17\u001b[0m fit_GD \u001b[39m=\u001b[39m objective_function(r,ShF,ShM, beta)\n",
      "Cell \u001b[1;32mIn[5], line 36\u001b[0m, in \u001b[0;36mGradient_Descent\u001b[1;34m(X0, f, bounds, MaxIter, alpha, args)\u001b[0m\n\u001b[0;32m     34\u001b[0m m \u001b[39m=\u001b[39m \u001b[39m0\u001b[39m\n\u001b[0;32m     35\u001b[0m \u001b[39mwhile\u001b[39;00m(k\u001b[39m<\u001b[39m\u001b[39m=\u001b[39mMaxIter \u001b[39mand\u001b[39;00m normaGradiente\u001b[39m>\u001b[39m\u001b[39m=\u001b[39meps):\n\u001b[1;32m---> 36\u001b[0m     G \u001b[39m=\u001b[39m Gradiente(X0,f, args)\n\u001b[0;32m     37\u001b[0m     normaGradiente \u001b[39m=\u001b[39m np\u001b[39m.\u001b[39mlinalg\u001b[39m.\u001b[39mnorm(G)\n\u001b[0;32m     38\u001b[0m     P \u001b[39m=\u001b[39m \u001b[39m-\u001b[39m G \u001b[39m/\u001b[39m normaGradiente\n",
      "Cell \u001b[1;32mIn[5], line 10\u001b[0m, in \u001b[0;36mGradient_Descent.<locals>.Gradiente\u001b[1;34m(X, f, args)\u001b[0m\n\u001b[0;32m      8\u001b[0m \u001b[39mfor\u001b[39;00m i \u001b[39min\u001b[39;00m \u001b[39mrange\u001b[39m(n):\n\u001b[0;32m      9\u001b[0m     incX[i] \u001b[39m=\u001b[39m eps\n\u001b[1;32m---> 10\u001b[0m     G[i] \u001b[39m=\u001b[39m (f(X\u001b[39m+\u001b[39mincX, \u001b[39m*\u001b[39margs)\u001b[39m-\u001b[39mf(X, \u001b[39m*\u001b[39;49margs))\u001b[39m/\u001b[39meps\n\u001b[0;32m     11\u001b[0m     incX[i] \u001b[39m=\u001b[39m \u001b[39m0\u001b[39m\n\u001b[0;32m     12\u001b[0m \u001b[39mreturn\u001b[39;00m G\n",
      "Cell \u001b[1;32mIn[3], line 1\u001b[0m, in \u001b[0;36mobjective_function\u001b[1;34m(s, ShF, ShM, beta)\u001b[0m\n\u001b[1;32m----> 1\u001b[0m \u001b[39mdef\u001b[39;00m \u001b[39mobjective_function\u001b[39m(s, ShF, ShM, beta): \u001b[39m#c is a constant that distributes the weight among the functions.\u001b[39;00m\n\u001b[0;32m      2\u001b[0m     \u001b[39mreturn\u001b[39;00m beta\u001b[39m*\u001b[39mShF(s) \u001b[39m+\u001b[39m (\u001b[39m1\u001b[39m\u001b[39m-\u001b[39mbeta)\u001b[39m*\u001b[39mShM(s)\n",
      "\u001b[1;31mKeyboardInterrupt\u001b[0m: "
     ]
    }
   ],
   "source": [
    "GD(1e-4, it, nRuns)"
   ]
  },
  {
   "cell_type": "code",
   "execution_count": 15,
   "metadata": {},
   "outputs": [
    {
     "name": "stdout",
     "output_type": "stream",
     "text": [
      "\n",
      "* Number of iterations: 1000\n",
      "\t\n",
      "Initial Fitness: 53.616266621359 in #0\n",
      "\t\t# 100 15.945683536291718\n",
      "\t\t# 200 15.489373908412515\n",
      "\t\t# 300 15.441371310591427\n",
      "\t\t# 400 15.381178143820135\n",
      "\t\t# 500 15.469948761362016\n",
      "\t\t# 600 16.170942943085894\n",
      "\t\t# 700 17.030309304231317\n",
      "\t\t# 800 18.839632444222037\n",
      "\t\t# 900 21.86035656254319\n",
      "\t\t# 1000 22.258727130499622\n",
      "\t  - before:  53.616266621359\n",
      "\t  - after (GD):  22.272478251603633\n",
      "\t\n",
      "Initial Fitness: 29.523204171785466 in #1\n",
      "\t\t# 100 10.474672590477507\n",
      "\t\t# 200 10.474672590477507\n",
      "\t\t# 300 10.474672590477507\n",
      "\t\t# 400 10.474672590477507\n",
      "\t\t# 500 10.474672590477507\n",
      "\t\t# 600 10.474672590477507\n",
      "\t\t# 700 10.474672590477507\n",
      "\t\t# 800 10.474672590477507\n",
      "\t\t# 900 10.474672590477507\n",
      "\t\t# 1000 10.474672590477507\n",
      "\t  - before:  29.523204171785466\n",
      "\t  - after (GD):  10.474672590477507\n",
      "\t\n",
      "Initial Fitness: 25.446676801562347 in #2\n",
      "\t\t# 100 27.339807038403812\n",
      "\t\t# 200 31.8505861906462\n",
      "\t\t# 300 40.460797169775645\n",
      "\t\t# 400 40.80547393326732\n",
      "\t\t# 500 43.193140875825534\n",
      "\t\t# 600 43.80123555696948\n",
      "\t\t# 700 43.79089870585159\n"
     ]
    }
   ],
   "source": [
    "GD(3e-3, it, nRuns)"
   ]
  }
 ],
 "metadata": {
  "kernelspec": {
   "display_name": "Python 3",
   "language": "python",
   "name": "python3"
  },
  "language_info": {
   "codemirror_mode": {
    "name": "ipython",
    "version": 3
   },
   "file_extension": ".py",
   "mimetype": "text/x-python",
   "name": "python",
   "nbconvert_exporter": "python",
   "pygments_lexer": "ipython3",
   "version": "3.11.2"
  },
  "orig_nbformat": 4
 },
 "nbformat": 4,
 "nbformat_minor": 2
}
